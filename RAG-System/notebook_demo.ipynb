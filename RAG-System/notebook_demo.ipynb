{
 "cells": [
  {
   "cell_type": "code",
   "execution_count": 15,
   "metadata": {},
   "outputs": [],
   "source": [
    "# import importlib\n",
    "# import db_utils\n",
    "# importlib.reload(db_utils)"
   ]
  },
  {
   "cell_type": "code",
   "execution_count": null,
   "metadata": {
    "ExecuteTime": {
     "end_time": "2024-09-28T20:44:25.303552Z",
     "start_time": "2024-09-28T20:44:23.390518Z"
    }
   },
   "outputs": [],
   "source": [
    "%pip install langchain-elasticsearch langchain-community langchain_experimental langchain_openai tqdm pypdf streamlit langchain-ollama --use-pep517"
   ]
  },
  {
   "cell_type": "code",
   "execution_count": 17,
   "metadata": {
    "ExecuteTime": {
     "end_time": "2024-09-28T22:47:05.910459Z",
     "start_time": "2024-09-28T22:47:05.890577Z"
    }
   },
   "outputs": [],
   "source": [
    "from langchain_community.embeddings import FastEmbedEmbeddings\n",
    "from langchain_community.llms.ollama import Ollama\n",
    "\n",
    "from db_utils import add_documents_to_db, remove_index, remove_document, fetch_all\n",
    "from model_utils import rag_prompt\n",
    "from config import MODEL_NAME, ES_PORT, ES_INDEX_NAME, ES_DISTANCE_STRATEGY, CONTEXT_CHAR_THRESHOLD, CHUNKER_TYPE\n",
    "import pickle\n",
    "from langchain_community.document_loaders import PyPDFDirectoryLoader"
   ]
  },
  {
   "cell_type": "markdown",
   "metadata": {},
   "source": [
    "Prepare chunks"
   ]
  },
  {
   "cell_type": "code",
   "execution_count": 18,
   "metadata": {
    "ExecuteTime": {
     "end_time": "2024-09-28T22:47:09.288413Z",
     "start_time": "2024-09-28T22:47:08.408287Z"
    }
   },
   "outputs": [],
   "source": [
    "pdf_directory = \"./data/college\"\n",
    "document_chunks = PyPDFDirectoryLoader(pdf_directory, recursive=True).load()"
   ]
  },
  {
   "cell_type": "code",
   "execution_count": null,
   "metadata": {
    "ExecuteTime": {
     "end_time": "2024-09-28T22:47:10.449550Z",
     "start_time": "2024-09-28T22:47:10.433385Z"
    }
   },
   "outputs": [],
   "source": [
    "document_chunks"
   ]
  },
  {
   "cell_type": "code",
   "execution_count": null,
   "metadata": {
    "ExecuteTime": {
     "end_time": "2024-09-28T22:51:23.394773Z",
     "start_time": "2024-09-28T22:51:23.385186Z"
    }
   },
   "outputs": [],
   "source": [
    "len(document_chunks)"
   ]
  },
  {
   "cell_type": "code",
   "execution_count": 21,
   "metadata": {
    "ExecuteTime": {
     "end_time": "2024-09-28T22:47:44.228838Z",
     "start_time": "2024-09-28T22:47:44.215656Z"
    }
   },
   "outputs": [],
   "source": [
    "# save document_chunks to a file\n",
    "with open(\"document_chunks_FastEmbedEmbeddings_college.pkl\", \"wb\") as f:\n",
    "    pickle.dump(document_chunks, f)"
   ]
  },
  {
   "cell_type": "code",
   "execution_count": 22,
   "metadata": {},
   "outputs": [],
   "source": [
    "# %pip install langchain-elasticsearch langchain-community langchain_experimental langchain_openai tqdm pypdf streamlit fastembed --use-pep517"
   ]
  },
  {
   "cell_type": "markdown",
   "metadata": {},
   "source": [
    "Prepare database"
   ]
  },
  {
   "cell_type": "code",
   "execution_count": 23,
   "metadata": {
    "ExecuteTime": {
     "end_time": "2024-09-28T22:47:49.794086Z",
     "start_time": "2024-09-28T22:47:49.756421Z"
    }
   },
   "outputs": [],
   "source": [
    "from langchain_ollama import OllamaEmbeddings\n",
    "MODEL_NAME=\"llama3.2\"\n",
    "embedding = OllamaEmbeddings(\n",
    "    model=MODEL_NAME,\n",
    ")\n",
    "db_kwargs = {\n",
    "    \"embedding\": embedding,\n",
    "    \"es_url\": \"http://localhost:9200\",\n",
    "    \"index_name\": \"rag\",\n",
    "    \"distance_strategy\": \"COSINE\"\n",
    "}"
   ]
  },
  {
   "cell_type": "code",
   "execution_count": null,
   "metadata": {
    "ExecuteTime": {
     "end_time": "2024-09-28T22:47:52.546355Z",
     "start_time": "2024-09-28T22:47:52.506476Z"
    }
   },
   "outputs": [],
   "source": [
    "# clear index \n",
    "remove_index(index_name=db_kwargs[\"index_name\"], db_config={\"hosts\": db_kwargs[\"es_url\"]})"
   ]
  },
  {
   "cell_type": "code",
   "execution_count": null,
   "metadata": {
    "ExecuteTime": {
     "end_time": "2024-09-28T22:47:54.620723Z",
     "start_time": "2024-09-28T22:47:54.603478Z"
    }
   },
   "outputs": [],
   "source": [
    "#print type of document_chunks, db_kwargs\n",
    "print(type(document_chunks), type(db_kwargs))"
   ]
  },
  {
   "cell_type": "code",
   "execution_count": null,
   "metadata": {
    "ExecuteTime": {
     "end_time": "2024-09-28T22:47:58.696030Z",
     "start_time": "2024-09-28T22:47:56.449694Z"
    }
   },
   "outputs": [],
   "source": [
    "db = add_documents_to_db(db=None, document_chunks=document_chunks, db_kwargs=db_kwargs, bulk_upload=True)"
   ]
  },
  {
   "cell_type": "code",
   "execution_count": null,
   "metadata": {},
   "outputs": [],
   "source": [
    "fetch_all(\n",
    "    index_name=db_kwargs[\"index_name\"],\n",
    "    db_config={\"hosts\": db_kwargs[\"es_url\"]},\n",
    ")"
   ]
  },
  {
   "cell_type": "markdown",
   "metadata": {},
   "source": [
    "Prompt rag"
   ]
  },
  {
   "cell_type": "code",
   "execution_count": null,
   "metadata": {},
   "outputs": [],
   "source": [
    "model = Ollama(model=MODEL_NAME)\n",
    "\n",
    "response = rag_prompt(\n",
    "    context_char_threshold=CONTEXT_CHAR_THRESHOLD,\n",
    "    query = \"Chciałbym wypełnić deklarację PCC-3.\",\n",
    "    model=model,\n",
    "    db=db,\n",
    "    chunker_type=CHUNKER_TYPE,\n",
    ")\n",
    "\n",
    "# remove_document(\n",
    "#     index_name=db_kwargs[\"index_name\"],\n",
    "#     source_file=\"\",\n",
    "#     db_config={\"hosts\": db_kwargs[\"es_url\"]},\n",
    "#     )\n"
   ]
  },
  {
   "cell_type": "code",
   "execution_count": null,
   "metadata": {},
   "outputs": [],
   "source": []
  }
 ],
 "metadata": {
  "kernelspec": {
   "display_name": ".venv_wdzd",
   "language": "python",
   "name": "python3"
  },
  "language_info": {
   "codemirror_mode": {
    "name": "ipython",
    "version": 3
   },
   "file_extension": ".py",
   "mimetype": "text/x-python",
   "name": "python",
   "nbconvert_exporter": "python",
   "pygments_lexer": "ipython3",
   "version": "3.12.6"
  }
 },
 "nbformat": 4,
 "nbformat_minor": 2
}
