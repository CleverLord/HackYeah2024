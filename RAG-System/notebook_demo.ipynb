{
 "cells": [
  {
   "cell_type": "code",
   "execution_count": 1,
   "metadata": {},
   "outputs": [],
   "source": [
    "# import importlib\n",
    "# import db_utils\n",
    "# importlib.reload(db_utils)"
   ]
  },
  {
   "cell_type": "code",
   "execution_count": 2,
   "metadata": {
    "ExecuteTime": {
     "end_time": "2024-09-28T20:44:25.303552Z",
     "start_time": "2024-09-28T20:44:23.390518Z"
    }
   },
   "outputs": [
    {
     "name": "stdout",
     "output_type": "stream",
     "text": [
      "Requirement already satisfied: langchain-elasticsearch in c:\\users\\krzys\\appdata\\local\\programs\\python\\python312\\lib\\site-packages (0.3.0)\n",
      "Requirement already satisfied: langchain-community in c:\\users\\krzys\\appdata\\local\\programs\\python\\python312\\lib\\site-packages (0.3.1)\n",
      "Requirement already satisfied: langchain_experimental in c:\\users\\krzys\\appdata\\local\\programs\\python\\python312\\lib\\site-packages (0.3.2)\n",
      "Requirement already satisfied: langchain_openai in c:\\users\\krzys\\appdata\\local\\programs\\python\\python312\\lib\\site-packages (0.2.1)\n",
      "Requirement already satisfied: tqdm in c:\\users\\krzys\\appdata\\local\\programs\\python\\python312\\lib\\site-packages (4.66.5)\n",
      "Requirement already satisfied: pypdf in c:\\users\\krzys\\appdata\\local\\programs\\python\\python312\\lib\\site-packages (5.0.0)\n",
      "Requirement already satisfied: streamlit in c:\\users\\krzys\\appdata\\local\\programs\\python\\python312\\lib\\site-packages (1.38.0)\n",
      "Requirement already satisfied: langchain-ollama in c:\\users\\krzys\\appdata\\local\\programs\\python\\python312\\lib\\site-packages (0.2.0)\n",
      "Requirement already satisfied: elasticsearch<9.0.0,>=8.13.1 in c:\\users\\krzys\\appdata\\local\\programs\\python\\python312\\lib\\site-packages (from elasticsearch[vectorstore-mmr]<9.0.0,>=8.13.1->langchain-elasticsearch) (8.15.1)\n",
      "Requirement already satisfied: langchain-core<0.4.0,>=0.3.0 in c:\\users\\krzys\\appdata\\local\\programs\\python\\python312\\lib\\site-packages (from langchain-elasticsearch) (0.3.6)\n",
      "Requirement already satisfied: PyYAML>=5.3 in c:\\users\\krzys\\appdata\\local\\programs\\python\\python312\\lib\\site-packages (from langchain-community) (6.0.2)\n",
      "Requirement already satisfied: SQLAlchemy<3,>=1.4 in c:\\users\\krzys\\appdata\\local\\programs\\python\\python312\\lib\\site-packages (from langchain-community) (2.0.35)\n",
      "Requirement already satisfied: aiohttp<4.0.0,>=3.8.3 in c:\\users\\krzys\\appdata\\local\\programs\\python\\python312\\lib\\site-packages (from langchain-community) (3.10.7)\n",
      "Requirement already satisfied: dataclasses-json<0.7,>=0.5.7 in c:\\users\\krzys\\appdata\\local\\programs\\python\\python312\\lib\\site-packages (from langchain-community) (0.6.7)\n",
      "Requirement already satisfied: langchain<0.4.0,>=0.3.1 in c:\\users\\krzys\\appdata\\local\\programs\\python\\python312\\lib\\site-packages (from langchain-community) (0.3.1)\n",
      "Requirement already satisfied: langsmith<0.2.0,>=0.1.125 in c:\\users\\krzys\\appdata\\local\\programs\\python\\python312\\lib\\site-packages (from langchain-community) (0.1.129)\n",
      "Requirement already satisfied: numpy<2.0.0,>=1.26.0 in c:\\users\\krzys\\appdata\\local\\programs\\python\\python312\\lib\\site-packages (from langchain-community) (1.26.4)\n",
      "Requirement already satisfied: pydantic-settings<3.0.0,>=2.4.0 in c:\\users\\krzys\\appdata\\local\\programs\\python\\python312\\lib\\site-packages (from langchain-community) (2.5.2)\n",
      "Requirement already satisfied: requests<3,>=2 in c:\\users\\krzys\\appdata\\local\\programs\\python\\python312\\lib\\site-packages (from langchain-community) (2.32.3)\n",
      "Requirement already satisfied: tenacity!=8.4.0,<9.0.0,>=8.1.0 in c:\\users\\krzys\\appdata\\local\\programs\\python\\python312\\lib\\site-packages (from langchain-community) (8.5.0)\n",
      "Requirement already satisfied: openai<2.0.0,>=1.40.0 in c:\\users\\krzys\\appdata\\local\\programs\\python\\python312\\lib\\site-packages (from langchain_openai) (1.50.2)\n",
      "Requirement already satisfied: tiktoken<1,>=0.7 in c:\\users\\krzys\\appdata\\local\\programs\\python\\python312\\lib\\site-packages (from langchain_openai) (0.7.0)\n",
      "Requirement already satisfied: colorama in c:\\users\\krzys\\appdata\\roaming\\python\\python312\\site-packages (from tqdm) (0.4.6)\n",
      "Requirement already satisfied: altair<6,>=4.0 in c:\\users\\krzys\\appdata\\local\\programs\\python\\python312\\lib\\site-packages (from streamlit) (5.4.1)\n",
      "Requirement already satisfied: blinker<2,>=1.0.0 in c:\\users\\krzys\\appdata\\local\\programs\\python\\python312\\lib\\site-packages (from streamlit) (1.8.2)\n",
      "Requirement already satisfied: cachetools<6,>=4.0 in c:\\users\\krzys\\appdata\\local\\programs\\python\\python312\\lib\\site-packages (from streamlit) (5.5.0)\n",
      "Requirement already satisfied: click<9,>=7.0 in c:\\users\\krzys\\appdata\\local\\programs\\python\\python312\\lib\\site-packages (from streamlit) (8.1.7)\n",
      "Requirement already satisfied: packaging<25,>=20 in c:\\users\\krzys\\appdata\\roaming\\python\\python312\\site-packages (from streamlit) (24.1)\n",
      "Requirement already satisfied: pandas<3,>=1.3.0 in c:\\users\\krzys\\appdata\\local\\programs\\python\\python312\\lib\\site-packages (from streamlit) (2.2.3)\n",
      "Requirement already satisfied: pillow<11,>=7.1.0 in c:\\users\\krzys\\appdata\\local\\programs\\python\\python312\\lib\\site-packages (from streamlit) (10.4.0)\n",
      "Requirement already satisfied: protobuf<6,>=3.20 in c:\\users\\krzys\\appdata\\local\\programs\\python\\python312\\lib\\site-packages (from streamlit) (5.28.2)\n",
      "Requirement already satisfied: pyarrow>=7.0 in c:\\users\\krzys\\appdata\\local\\programs\\python\\python312\\lib\\site-packages (from streamlit) (17.0.0)\n",
      "Requirement already satisfied: rich<14,>=10.14.0 in c:\\users\\krzys\\appdata\\local\\programs\\python\\python312\\lib\\site-packages (from streamlit) (13.8.1)\n",
      "Requirement already satisfied: toml<2,>=0.10.1 in c:\\users\\krzys\\appdata\\local\\programs\\python\\python312\\lib\\site-packages (from streamlit) (0.10.2)\n",
      "Requirement already satisfied: typing-extensions<5,>=4.3.0 in c:\\users\\krzys\\appdata\\local\\programs\\python\\python312\\lib\\site-packages (from streamlit) (4.12.2)\n",
      "Requirement already satisfied: gitpython!=3.1.19,<4,>=3.0.7 in c:\\users\\krzys\\appdata\\local\\programs\\python\\python312\\lib\\site-packages (from streamlit) (3.1.43)\n",
      "Requirement already satisfied: pydeck<1,>=0.8.0b4 in c:\\users\\krzys\\appdata\\local\\programs\\python\\python312\\lib\\site-packages (from streamlit) (0.9.1)\n",
      "Requirement already satisfied: tornado<7,>=6.0.3 in c:\\users\\krzys\\appdata\\roaming\\python\\python312\\site-packages (from streamlit) (6.4.1)\n",
      "Requirement already satisfied: watchdog<5,>=2.1.5 in c:\\users\\krzys\\appdata\\local\\programs\\python\\python312\\lib\\site-packages (from streamlit) (4.0.2)\n",
      "Requirement already satisfied: ollama<1,>=0.3.0 in c:\\users\\krzys\\appdata\\local\\programs\\python\\python312\\lib\\site-packages (from langchain-ollama) (0.3.3)\n",
      "Requirement already satisfied: aiohappyeyeballs>=2.3.0 in c:\\users\\krzys\\appdata\\local\\programs\\python\\python312\\lib\\site-packages (from aiohttp<4.0.0,>=3.8.3->langchain-community) (2.4.2)\n",
      "Requirement already satisfied: aiosignal>=1.1.2 in c:\\users\\krzys\\appdata\\local\\programs\\python\\python312\\lib\\site-packages (from aiohttp<4.0.0,>=3.8.3->langchain-community) (1.3.1)\n",
      "Requirement already satisfied: attrs>=17.3.0 in c:\\users\\krzys\\appdata\\local\\programs\\python\\python312\\lib\\site-packages (from aiohttp<4.0.0,>=3.8.3->langchain-community) (24.2.0)\n",
      "Requirement already satisfied: frozenlist>=1.1.1 in c:\\users\\krzys\\appdata\\local\\programs\\python\\python312\\lib\\site-packages (from aiohttp<4.0.0,>=3.8.3->langchain-community) (1.4.1)\n",
      "Requirement already satisfied: multidict<7.0,>=4.5 in c:\\users\\krzys\\appdata\\local\\programs\\python\\python312\\lib\\site-packages (from aiohttp<4.0.0,>=3.8.3->langchain-community) (6.1.0)\n",
      "Requirement already satisfied: yarl<2.0,>=1.12.0 in c:\\users\\krzys\\appdata\\local\\programs\\python\\python312\\lib\\site-packages (from aiohttp<4.0.0,>=3.8.3->langchain-community) (1.13.1)\n",
      "Requirement already satisfied: jinja2 in c:\\users\\krzys\\appdata\\local\\programs\\python\\python312\\lib\\site-packages (from altair<6,>=4.0->streamlit) (3.1.4)\n",
      "Requirement already satisfied: jsonschema>=3.0 in c:\\users\\krzys\\appdata\\local\\programs\\python\\python312\\lib\\site-packages (from altair<6,>=4.0->streamlit) (4.23.0)\n",
      "Requirement already satisfied: narwhals>=1.5.2 in c:\\users\\krzys\\appdata\\local\\programs\\python\\python312\\lib\\site-packages (from altair<6,>=4.0->streamlit) (1.8.4)\n",
      "Requirement already satisfied: marshmallow<4.0.0,>=3.18.0 in c:\\users\\krzys\\appdata\\local\\programs\\python\\python312\\lib\\site-packages (from dataclasses-json<0.7,>=0.5.7->langchain-community) (3.22.0)\n",
      "Requirement already satisfied: typing-inspect<1,>=0.4.0 in c:\\users\\krzys\\appdata\\local\\programs\\python\\python312\\lib\\site-packages (from dataclasses-json<0.7,>=0.5.7->langchain-community) (0.9.0)\n",
      "Requirement already satisfied: elastic-transport<9,>=8.13 in c:\\users\\krzys\\appdata\\local\\programs\\python\\python312\\lib\\site-packages (from elasticsearch<9.0.0,>=8.13.1->elasticsearch[vectorstore-mmr]<9.0.0,>=8.13.1->langchain-elasticsearch) (8.15.0)\n",
      "Requirement already satisfied: simsimd>=3 in c:\\users\\krzys\\appdata\\local\\programs\\python\\python312\\lib\\site-packages (from elasticsearch[vectorstore-mmr]<9.0.0,>=8.13.1->langchain-elasticsearch) (5.4.3)\n",
      "Requirement already satisfied: gitdb<5,>=4.0.1 in c:\\users\\krzys\\appdata\\local\\programs\\python\\python312\\lib\\site-packages (from gitpython!=3.1.19,<4,>=3.0.7->streamlit) (4.0.11)\n",
      "Requirement already satisfied: langchain-text-splitters<0.4.0,>=0.3.0 in c:\\users\\krzys\\appdata\\local\\programs\\python\\python312\\lib\\site-packages (from langchain<0.4.0,>=0.3.1->langchain-community) (0.3.0)\n",
      "Requirement already satisfied: pydantic<3.0.0,>=2.7.4 in c:\\users\\krzys\\appdata\\local\\programs\\python\\python312\\lib\\site-packages (from langchain<0.4.0,>=0.3.1->langchain-community) (2.9.2)\n",
      "Requirement already satisfied: jsonpatch<2.0,>=1.33 in c:\\users\\krzys\\appdata\\local\\programs\\python\\python312\\lib\\site-packages (from langchain-core<0.4.0,>=0.3.0->langchain-elasticsearch) (1.33)\n",
      "Requirement already satisfied: httpx<1,>=0.23.0 in c:\\users\\krzys\\appdata\\local\\programs\\python\\python312\\lib\\site-packages (from langsmith<0.2.0,>=0.1.125->langchain-community) (0.27.2)\n",
      "Requirement already satisfied: orjson<4.0.0,>=3.9.14 in c:\\users\\krzys\\appdata\\local\\programs\\python\\python312\\lib\\site-packages (from langsmith<0.2.0,>=0.1.125->langchain-community) (3.10.7)\n",
      "Requirement already satisfied: anyio<5,>=3.5.0 in c:\\users\\krzys\\appdata\\local\\programs\\python\\python312\\lib\\site-packages (from openai<2.0.0,>=1.40.0->langchain_openai) (4.6.0)\n",
      "Requirement already satisfied: distro<2,>=1.7.0 in c:\\users\\krzys\\appdata\\local\\programs\\python\\python312\\lib\\site-packages (from openai<2.0.0,>=1.40.0->langchain_openai) (1.9.0)\n",
      "Requirement already satisfied: jiter<1,>=0.4.0 in c:\\users\\krzys\\appdata\\local\\programs\\python\\python312\\lib\\site-packages (from openai<2.0.0,>=1.40.0->langchain_openai) (0.5.0)\n",
      "Requirement already satisfied: sniffio in c:\\users\\krzys\\appdata\\local\\programs\\python\\python312\\lib\\site-packages (from openai<2.0.0,>=1.40.0->langchain_openai) (1.3.1)\n",
      "Requirement already satisfied: python-dateutil>=2.8.2 in c:\\users\\krzys\\appdata\\roaming\\python\\python312\\site-packages (from pandas<3,>=1.3.0->streamlit) (2.9.0.post0)\n",
      "Requirement already satisfied: pytz>=2020.1 in c:\\users\\krzys\\appdata\\local\\programs\\python\\python312\\lib\\site-packages (from pandas<3,>=1.3.0->streamlit) (2024.2)\n",
      "Requirement already satisfied: tzdata>=2022.7 in c:\\users\\krzys\\appdata\\local\\programs\\python\\python312\\lib\\site-packages (from pandas<3,>=1.3.0->streamlit) (2024.2)\n",
      "Requirement already satisfied: python-dotenv>=0.21.0 in c:\\users\\krzys\\appdata\\local\\programs\\python\\python312\\lib\\site-packages (from pydantic-settings<3.0.0,>=2.4.0->langchain-community) (1.0.1)\n",
      "Requirement already satisfied: charset-normalizer<4,>=2 in c:\\users\\krzys\\appdata\\local\\programs\\python\\python312\\lib\\site-packages (from requests<3,>=2->langchain-community) (3.3.2)\n",
      "Requirement already satisfied: idna<4,>=2.5 in c:\\users\\krzys\\appdata\\local\\programs\\python\\python312\\lib\\site-packages (from requests<3,>=2->langchain-community) (3.10)\n",
      "Requirement already satisfied: urllib3<3,>=1.21.1 in c:\\users\\krzys\\appdata\\local\\programs\\python\\python312\\lib\\site-packages (from requests<3,>=2->langchain-community) (2.2.3)\n",
      "Requirement already satisfied: certifi>=2017.4.17 in c:\\users\\krzys\\appdata\\local\\programs\\python\\python312\\lib\\site-packages (from requests<3,>=2->langchain-community) (2024.8.30)\n",
      "Requirement already satisfied: markdown-it-py>=2.2.0 in c:\\users\\krzys\\appdata\\local\\programs\\python\\python312\\lib\\site-packages (from rich<14,>=10.14.0->streamlit) (3.0.0)\n",
      "Requirement already satisfied: pygments<3.0.0,>=2.13.0 in c:\\users\\krzys\\appdata\\roaming\\python\\python312\\site-packages (from rich<14,>=10.14.0->streamlit) (2.18.0)\n",
      "Requirement already satisfied: greenlet!=0.4.17 in c:\\users\\krzys\\appdata\\local\\programs\\python\\python312\\lib\\site-packages (from SQLAlchemy<3,>=1.4->langchain-community) (3.1.1)\n",
      "Requirement already satisfied: regex>=2022.1.18 in c:\\users\\krzys\\appdata\\local\\programs\\python\\python312\\lib\\site-packages (from tiktoken<1,>=0.7->langchain_openai) (2024.9.11)\n",
      "Requirement already satisfied: smmap<6,>=3.0.1 in c:\\users\\krzys\\appdata\\local\\programs\\python\\python312\\lib\\site-packages (from gitdb<5,>=4.0.1->gitpython!=3.1.19,<4,>=3.0.7->streamlit) (5.0.1)\n",
      "Requirement already satisfied: httpcore==1.* in c:\\users\\krzys\\appdata\\local\\programs\\python\\python312\\lib\\site-packages (from httpx<1,>=0.23.0->langsmith<0.2.0,>=0.1.125->langchain-community) (1.0.5)\n",
      "Requirement already satisfied: h11<0.15,>=0.13 in c:\\users\\krzys\\appdata\\local\\programs\\python\\python312\\lib\\site-packages (from httpcore==1.*->httpx<1,>=0.23.0->langsmith<0.2.0,>=0.1.125->langchain-community) (0.14.0)\n",
      "Requirement already satisfied: MarkupSafe>=2.0 in c:\\users\\krzys\\appdata\\local\\programs\\python\\python312\\lib\\site-packages (from jinja2->altair<6,>=4.0->streamlit) (2.1.5)\n",
      "Requirement already satisfied: jsonpointer>=1.9 in c:\\users\\krzys\\appdata\\local\\programs\\python\\python312\\lib\\site-packages (from jsonpatch<2.0,>=1.33->langchain-core<0.4.0,>=0.3.0->langchain-elasticsearch) (3.0.0)\n",
      "Requirement already satisfied: jsonschema-specifications>=2023.03.6 in c:\\users\\krzys\\appdata\\local\\programs\\python\\python312\\lib\\site-packages (from jsonschema>=3.0->altair<6,>=4.0->streamlit) (2023.12.1)\n",
      "Requirement already satisfied: referencing>=0.28.4 in c:\\users\\krzys\\appdata\\local\\programs\\python\\python312\\lib\\site-packages (from jsonschema>=3.0->altair<6,>=4.0->streamlit) (0.35.1)\n",
      "Requirement already satisfied: rpds-py>=0.7.1 in c:\\users\\krzys\\appdata\\local\\programs\\python\\python312\\lib\\site-packages (from jsonschema>=3.0->altair<6,>=4.0->streamlit) (0.20.0)\n",
      "Requirement already satisfied: mdurl~=0.1 in c:\\users\\krzys\\appdata\\local\\programs\\python\\python312\\lib\\site-packages (from markdown-it-py>=2.2.0->rich<14,>=10.14.0->streamlit) (0.1.2)\n",
      "Requirement already satisfied: annotated-types>=0.6.0 in c:\\users\\krzys\\appdata\\local\\programs\\python\\python312\\lib\\site-packages (from pydantic<3.0.0,>=2.7.4->langchain<0.4.0,>=0.3.1->langchain-community) (0.7.0)\n",
      "Requirement already satisfied: pydantic-core==2.23.4 in c:\\users\\krzys\\appdata\\local\\programs\\python\\python312\\lib\\site-packages (from pydantic<3.0.0,>=2.7.4->langchain<0.4.0,>=0.3.1->langchain-community) (2.23.4)\n",
      "Requirement already satisfied: six>=1.5 in c:\\users\\krzys\\appdata\\roaming\\python\\python312\\site-packages (from python-dateutil>=2.8.2->pandas<3,>=1.3.0->streamlit) (1.16.0)\n",
      "Requirement already satisfied: mypy-extensions>=0.3.0 in c:\\users\\krzys\\appdata\\local\\programs\\python\\python312\\lib\\site-packages (from typing-inspect<1,>=0.4.0->dataclasses-json<0.7,>=0.5.7->langchain-community) (1.0.0)\n",
      "Note: you may need to restart the kernel to use updated packages.\n"
     ]
    }
   ],
   "source": [
    "%pip install langchain-elasticsearch langchain-community langchain_experimental langchain_openai tqdm pypdf streamlit langchain-ollama --use-pep517"
   ]
  },
  {
   "cell_type": "code",
   "execution_count": 3,
   "metadata": {
    "ExecuteTime": {
     "end_time": "2024-09-28T20:44:41.929390Z",
     "start_time": "2024-09-28T20:44:35.969291Z"
    }
   },
   "outputs": [],
   "source": [
    "from langchain_community.embeddings import FastEmbedEmbeddings\n",
    "from langchain_community.llms.ollama import Ollama\n",
    "\n",
    "from db_utils import add_documents_to_db, remove_index, remove_document, fetch_all\n",
    "from files_utils import chunk_documents\n",
    "from model_utils import rag_prompt\n",
    "from config import MODEL_NAME, ES_PORT, ES_INDEX_NAME, ES_DISTANCE_STRATEGY, CONTEXT_CHAR_THRESHOLD, CHUNKER_TYPE\n",
    "import pickle"
   ]
  },
  {
   "cell_type": "markdown",
   "metadata": {},
   "source": [
    "Prepare chunks"
   ]
  },
  {
   "cell_type": "code",
   "execution_count": 4,
   "metadata": {
    "ExecuteTime": {
     "end_time": "2024-09-28T20:44:45.767857Z",
     "start_time": "2024-09-28T20:44:41.929390Z"
    }
   },
   "outputs": [
    {
     "name": "stdout",
     "output_type": "stream",
     "text": [
      "Loaded 13 documents.\n"
     ]
    }
   ],
   "source": [
    "pdf_directory = \"./data/college\"\n",
    "\n",
    "document_chunks = chunk_documents(pdf_directory=pdf_directory, chunker_type=CHUNKER_TYPE)"
   ]
  },
  {
   "cell_type": "code",
   "execution_count": 5,
   "metadata": {},
   "outputs": [
    {
     "data": {
      "text/plain": [
       "[Document(metadata={'source': 'data\\\\college\\\\CIT-8.pdf', 'page': 0, 'id': 'data\\\\college\\\\CIT-8.pdf:0:0'}, page_content='Deklarację CIT -8 składa się w przypadku:  \\n• Podmiotów podlegających opodatkowaniu podatkiem dochodowym od osób \\nprawnych , takich jak:  \\no Spółki kapitałowe  (spółka z o.o., spółka akcyjna).  \\no Spółdzielnie, przedsiębiorstwa państwowe, jednostki organizacyjne \\nniemające osobowości prawnej , które są podatnikami CIT.'),\n",
       " Document(metadata={'source': 'data\\\\college\\\\CIT-8.pdf', 'page': 0, 'id': 'data\\\\college\\\\CIT-8.pdf:0:1'}, page_content='o Spółki kapitałowe  (spółka z o.o., spółka akcyjna).  \\no Spółdzielnie, przedsiębiorstwa państwowe, jednostki organizacyjne \\nniemające osobowości prawnej , które są podatnikami CIT.  \\n• Organizacje pozarządowe , fundacje i stowarzyszenia, jeśli uzyskują przychody \\npodlegające opodatkowaniu.  \\nDeklaracji CIT -8 nie składają:  \\n• Podmioty zwolnione z podatku dochodowego , np. niektóre organizacje'),\n",
       " Document(metadata={'source': 'data\\\\college\\\\CIT-8.pdf', 'page': 0, 'id': 'data\\\\college\\\\CIT-8.pdf:0:2'}, page_content='podlegające opodatkowaniu.  \\nDeklaracji CIT -8 nie składają:  \\n• Podmioty zwolnione z podatku dochodowego , np. niektóre organizacje \\nmiędzynarodowe.  \\n• Spółki osobowe , które nie są podatnikami CIT (np. spółka jawna, \\nkomandytowa).  \\nDodatkowe informacje:  \\n• Termin składania deklaracji  upływa do końca trzeciego miesiąca  \\nnastępującego po zakończeniu roku podatkowego (najczęściej 31 marca ).'),\n",
       " Document(metadata={'source': 'data\\\\college\\\\CIT-8.pdf', 'page': 0, 'id': 'data\\\\college\\\\CIT-8.pdf:0:3'}, page_content='komandytowa).  \\nDodatkowe informacje:  \\n• Termin składania deklaracji  upływa do końca trzeciego miesiąca  \\nnastępującego po zakończeniu roku podatkowego (najczęściej 31 marca ). \\n• Deklarację należy złożyć elektronicznie . \\n• Podatnik może skorzystać z ulg podatkowych , takich jak:  \\no Ulga na działalność badawczo -rozwojową . \\no Odliczenia darowizn na cele pożytku publicznego .'),\n",
       " Document(metadata={'source': 'data\\\\college\\\\CIT-8.pdf', 'page': 0, 'id': 'data\\\\college\\\\CIT-8.pdf:0:4'}, page_content='• Podatnik może skorzystać z ulg podatkowych , takich jak:  \\no Ulga na działalność badawczo -rozwojową . \\no Odliczenia darowizn na cele pożytku publicznego . \\n• Stawki podatku CIT wynoszą 9% lub 19% , w zależności od wielkości \\nprzychodów i statusu podatnika.'),\n",
       " Document(metadata={'source': 'data\\\\college\\\\PIT-28.pdf', 'page': 0, 'id': 'data\\\\college\\\\PIT-28.pdf:0:0'}, page_content='Deklarację PIT -28 składa się w przypadku:  \\n• Uzyskania przychodów opodatkowanych ryczałtem od przychodów \\newidencjonowanych , czyli:  \\no Z działalności gospodarczej osób fizycznych  prowadzonej \\nsamodzielnie lub w formie spółki cywilnej bądź jawnej osób fizycznych.  \\no Z najmu, podnajmu, dzierżawy, poddzierżawy lub innych umów o \\npodobnym charakterze , jeśli nie są one zawierane w ramach'),\n",
       " Document(metadata={'source': 'data\\\\college\\\\PIT-28.pdf', 'page': 0, 'id': 'data\\\\college\\\\PIT-28.pdf:0:1'}, page_content='samodzielnie lub w formie spółki cywilnej bądź jawnej osób fizycznych.  \\no Z najmu, podnajmu, dzierżawy, poddzierżawy lub innych umów o \\npodobnym charakterze , jeśli nie są one zawierane w ramach \\ndziałalności gospodarczej.  \\n• Gdy podatnik wybrał tę formę opodatkowania i zgłosił to naczelnikowi \\nurzędu skarbowego  w odpowiednim terminie.  \\nDeklaracji PIT -28 nie składa się, gdy:'),\n",
       " Document(metadata={'source': 'data\\\\college\\\\PIT-28.pdf', 'page': 0, 'id': 'data\\\\college\\\\PIT-28.pdf:0:2'}, page_content='działalności gospodarczej.  \\n• Gdy podatnik wybrał tę formę opodatkowania i zgłosił to naczelnikowi \\nurzędu skarbowego  w odpowiednim terminie.  \\nDeklaracji PIT -28 nie składa się, gdy:  \\n• Podatnik nie dokonał zgłoszenia wyboru ryczałtu  jako formy opodatkowania w \\nwymaganym terminie.  \\n• Przychody pochodzą z innych źródeł opodatkowanych na zasadach \\nogólnych  lub według liniowej stawki 19%.'),\n",
       " Document(metadata={'source': 'data\\\\college\\\\PIT-28.pdf', 'page': 0, 'id': 'data\\\\college\\\\PIT-28.pdf:0:3'}, page_content='wymaganym terminie.  \\n• Przychody pochodzą z innych źródeł opodatkowanych na zasadach \\nogólnych  lub według liniowej stawki 19%.  \\n• Podatnik prowadzi działalność wyłączoną z opodatkowania ryczałtem , np. \\napteki, lombardy, działalność w zakresie wolnych zawodów nieobjętych \\nryczałtem.  \\nDodatkowe informacje:  \\n• Termin składania deklaracji  upływa do 28 lutego  roku następującego po roku'),\n",
       " Document(metadata={'source': 'data\\\\college\\\\PIT-28.pdf', 'page': 0, 'id': 'data\\\\college\\\\PIT-28.pdf:0:4'}, page_content='apteki, lombardy, działalność w zakresie wolnych zawodów nieobjętych \\nryczałtem.  \\nDodatkowe informacje:  \\n• Termin składania deklaracji  upływa do 28 lutego  roku następującego po roku \\npodatkowym.  \\n• Deklarację można złożyć elektronicznie  lub w formie papierowej w urzędzie \\nskarbowym.  \\n• Podatnik nie może rozliczać się wspólnie z małżonkiem ani jako osoba \\nsamotnie wychowująca dziecko .'),\n",
       " Document(metadata={'source': 'data\\\\college\\\\PIT-28.pdf', 'page': 0, 'id': 'data\\\\college\\\\PIT-28.pdf:0:5'}, page_content='• Deklarację można złożyć elektronicznie  lub w formie papierowej w urzędzie \\nskarbowym.  \\n• Podatnik nie może rozliczać się wspólnie z małżonkiem ani jako osoba \\nsamotnie wychowująca dziecko . \\n• Można skorzystać z ulg i odliczeń , takich jak:  \\no Ulga abolicyjna . \\no Odliczenia z tytułu składek na ubezpieczenie społeczne i zdrowotne .'),\n",
       " Document(metadata={'source': 'data\\\\college\\\\PIT-36.pdf', 'page': 0, 'id': 'data\\\\college\\\\PIT-36.pdf:0:0'}, page_content='Deklarację PIT -36 składa się w przypadku:  \\n• Uzyskania dochodów opodatkowanych na zasadach ogólnych (skala \\npodatkowa 17% i 32%) , które:  \\no Nie są rozliczane za pośrednictwem płatnika , np.:  \\n▪ Z działalności gospodarczej osób fizycznych  prowadzonej \\nsamodzielnie lub w formie spółki niebędącej osobą prawną.  \\n▪ Z najmu, dzierżawy  lub innych umów o podobnym charakterze'),\n",
       " Document(metadata={'source': 'data\\\\college\\\\PIT-36.pdf', 'page': 0, 'id': 'data\\\\college\\\\PIT-36.pdf:0:1'}, page_content='▪ Z działalności gospodarczej osób fizycznych  prowadzonej \\nsamodzielnie lub w formie spółki niebędącej osobą prawną.  \\n▪ Z najmu, dzierżawy  lub innych umów o podobnym charakterze \\nzawieranych poza działalnością gospodarczą.  \\n▪ Z działów specjalnych produkcji rolnej . \\n• Gdy podatnik jest zobowiązany do doliczenia dochodów małoletnich dzieci . \\nDeklaracji PIT -36 nie składa się, gdy:'),\n",
       " Document(metadata={'source': 'data\\\\college\\\\PIT-36.pdf', 'page': 0, 'id': 'data\\\\college\\\\PIT-36.pdf:0:2'}, page_content='▪ Z działów specjalnych produkcji rolnej . \\n• Gdy podatnik jest zobowiązany do doliczenia dochodów małoletnich dzieci . \\nDeklaracji PIT -36 nie składa się, gdy:  \\n• Dochody były opodatkowane liniowo stawką 19%  (formularz PIT -36L).  \\n• Podatnik uzyskał wyłącznie dochody rozliczane przez płatników , np. z \\numowy o pracę (formularz PIT -37).'),\n",
       " Document(metadata={'source': 'data\\\\college\\\\PIT-36.pdf', 'page': 0, 'id': 'data\\\\college\\\\PIT-36.pdf:0:3'}, page_content='• Dochody były opodatkowane liniowo stawką 19%  (formularz PIT -36L).  \\n• Podatnik uzyskał wyłącznie dochody rozliczane przez płatników , np. z \\numowy o pracę (formularz PIT -37).  \\n• Dochody były opodatkowane ryczałtem od przychodów ewidencjonowanych  \\n(formularz PIT -28).  \\nDodatkowe informacje:  \\n• Deklarację PIT -36 można złożyć indywidualnie, wspólnie z małżonkiem lub'),\n",
       " Document(metadata={'source': 'data\\\\college\\\\PIT-36.pdf', 'page': 0, 'id': 'data\\\\college\\\\PIT-36.pdf:0:4'}, page_content='• Dochody były opodatkowane ryczałtem od przychodów ewidencjonowanych  \\n(formularz PIT -28).  \\nDodatkowe informacje:  \\n• Deklarację PIT -36 można złożyć indywidualnie, wspólnie z małżonkiem lub \\njako osoba samotnie wychowująca dziecko . \\n• Termin składania deklaracji  upływa 30 kwietnia  roku następującego po roku \\npodatkowym.  \\n• Można skorzystać z ulg i odliczeń , takich jak:'),\n",
       " Document(metadata={'source': 'data\\\\college\\\\PIT-36.pdf', 'page': 0, 'id': 'data\\\\college\\\\PIT-36.pdf:0:5'}, page_content='jako osoba samotnie wychowująca dziecko . \\n• Termin składania deklaracji  upływa 30 kwietnia  roku następującego po roku \\npodatkowym.  \\n• Można skorzystać z ulg i odliczeń , takich jak:  \\no Ulga na dzieci . \\no Ulga internetowa . \\no Odliczenia darowizn na cele pożytku publicznego . \\n• Deklarację można złożyć elektronicznie  poprzez system e -Deklaracje lub w \\nformie papierowej.'),\n",
       " Document(metadata={'source': 'data\\\\college\\\\PIT-36L.pdf', 'page': 0, 'id': 'data\\\\college\\\\PIT-36L.pdf:0:0'}, page_content='Deklarację PIT -36L składa się w przypadku:  \\n• Uzyskania dochodów z działalności gospodarczej opodatkowanej liniową \\nstawką 19% , czyli:  \\no Z działalności gospodarczej prowadzonej samodzielnie . \\no Z udziału w spółkach niebędących osobami prawnymi , np. spółkach \\ncywilnych lub jawnych.  \\n• Gdy podatnik wybrał tę formę opodatkowania  i zgłosił to naczelnikowi urzędu'),\n",
       " Document(metadata={'source': 'data\\\\college\\\\PIT-36L.pdf', 'page': 0, 'id': 'data\\\\college\\\\PIT-36L.pdf:0:1'}, page_content='o Z udziału w spółkach niebędących osobami prawnymi , np. spółkach \\ncywilnych lub jawnych.  \\n• Gdy podatnik wybrał tę formę opodatkowania  i zgłosił to naczelnikowi urzędu \\nskarbowego w odpowiednim terminie.  \\nDeklaracji PIT -36L nie składa się, gdy:  \\n• Podatnik nie dokonał wyboru opodatkowania liniowego . \\n• Dochody pochodzą z innych źródeł opodatkowanych na zasadach ogólnych  \\nlub ryczałtem.'),\n",
       " Document(metadata={'source': 'data\\\\college\\\\PIT-36L.pdf', 'page': 0, 'id': 'data\\\\college\\\\PIT-36L.pdf:0:2'}, page_content='Deklaracji PIT -36L nie składa się, gdy:  \\n• Podatnik nie dokonał wyboru opodatkowania liniowego . \\n• Dochody pochodzą z innych źródeł opodatkowanych na zasadach ogólnych  \\nlub ryczałtem.  \\nDodatkowe informacje:  \\n• Deklarację PIT -36L składa się indywidualnie  – nie ma możliwości rozliczenia \\nwspólnego z małżonkiem ani jako osoba samotnie wychowująca dziecko.'),\n",
       " Document(metadata={'source': 'data\\\\college\\\\PIT-36L.pdf', 'page': 0, 'id': 'data\\\\college\\\\PIT-36L.pdf:0:3'}, page_content='lub ryczałtem.  \\nDodatkowe informacje:  \\n• Deklarację PIT -36L składa się indywidualnie  – nie ma możliwości rozliczenia \\nwspólnego z małżonkiem ani jako osoba samotnie wychowująca dziecko.  \\n• Termin składania deklaracji  upływa 30 kwietnia  roku następującego po roku \\npodatkowym.  \\n• Można odliczyć składki na ubezpieczenie społeczne i zdrowotne , ale nie'),\n",
       " Document(metadata={'source': 'data\\\\college\\\\PIT-36L.pdf', 'page': 0, 'id': 'data\\\\college\\\\PIT-36L.pdf:0:4'}, page_content='• Termin składania deklaracji  upływa 30 kwietnia  roku następującego po roku \\npodatkowym.  \\n• Można odliczyć składki na ubezpieczenie społeczne i zdrowotne , ale nie \\nprzysługują niektóre ulgi, np. ulga na dzieci.  \\n• Deklarację można złożyć elektronicznie  lub w formie papierowej.'),\n",
       " Document(metadata={'source': 'data\\\\college\\\\PIT-37.pdf', 'page': 0, 'id': 'data\\\\college\\\\PIT-37.pdf:0:0'}, page_content='Deklaracja PIT -37 składa się w przypadku:  \\n• Uzyskania dochodów opodatkowanych według skali podatkowej , czyli:  \\no Z tytułu stosunku pracy , stosunku służbowego, pracy nakładczej lub \\nspółdzielczego stosunku pracy.  \\no Z umów zlecenia lub o dzieło , jeśli płatnik pobierał zaliczki na podatek.  \\no Z emerytur i rent , krajowych lub zagranicznych.'),\n",
       " Document(metadata={'source': 'data\\\\college\\\\PIT-37.pdf', 'page': 0, 'id': 'data\\\\college\\\\PIT-37.pdf:0:1'}, page_content='spółdzielczego stosunku pracy.  \\no Z umów zlecenia lub o dzieło , jeśli płatnik pobierał zaliczki na podatek.  \\no Z emerytur i rent , krajowych lub zagranicznych.  \\no Zasiłków pieniężnych z ubezpieczenia społecznego , np. chorobowego \\nczy macierzyńskiego.  \\no Świadczeń przedemerytalnych i zasiłków przedemerytalnych . \\no Nagród i innych świadczeń , jeśli były one opodatkowane zaliczkowo'),\n",
       " Document(metadata={'source': 'data\\\\college\\\\PIT-37.pdf', 'page': 0, 'id': 'data\\\\college\\\\PIT-37.pdf:0:2'}, page_content='czy macierzyńskiego.  \\no Świadczeń przedemerytalnych i zasiłków przedemerytalnych . \\no Nagród i innych świadczeń , jeśli były one opodatkowane zaliczkowo \\nprzez płatnika.  \\n• Gdy podatnik nie prowadzi działalności gospodarczej  opodatkowanej na \\nogólnych zasadach.  \\n• Gdy dochody są rozliczane wyłącznie za pośrednictwem płatnika , czyli np. \\npracodawcy lub ZUS.'),\n",
       " Document(metadata={'source': 'data\\\\college\\\\PIT-37.pdf', 'page': 0, 'id': 'data\\\\college\\\\PIT-37.pdf:0:3'}, page_content='• Gdy podatnik nie prowadzi działalności gospodarczej  opodatkowanej na \\nogólnych zasadach.  \\n• Gdy dochody są rozliczane wyłącznie za pośrednictwem płatnika , czyli np. \\npracodawcy lub ZUS.  \\nDeklaracji PIT -37 nie składa się, gdy:  \\n• Podatnik osiągnął dochody opodatkowane w inny sposób , np.:  \\no Opodatkowane ryczałtem od przychodów ewidencjonowanych  \\n(formularz PIT -28).'),\n",
       " Document(metadata={'source': 'data\\\\college\\\\PIT-37.pdf', 'page': 0, 'id': 'data\\\\college\\\\PIT-37.pdf:0:4'}, page_content='Deklaracji PIT -37 nie składa się, gdy:  \\n• Podatnik osiągnął dochody opodatkowane w inny sposób , np.:  \\no Opodatkowane ryczałtem od przychodów ewidencjonowanych  \\n(formularz PIT -28).  \\no Z kapitałów pieniężnych , np. z giełdy (formularz PIT -38).  \\no Z odpłatnego zbycia nieruchomości  (formularz PIT -39).  \\n• Podatnik prowadzi działalność gospodarczą  opodatkowaną na ogólnych'),\n",
       " Document(metadata={'source': 'data\\\\college\\\\PIT-37.pdf', 'page': 0, 'id': 'data\\\\college\\\\PIT-37.pdf:0:5'}, page_content='o Z kapitałów pieniężnych , np. z giełdy (formularz PIT -38).  \\no Z odpłatnego zbycia nieruchomości  (formularz PIT -39).  \\n• Podatnik prowadzi działalność gospodarczą  opodatkowaną na ogólnych \\nzasadach (formularz PIT -36).  \\n• Dochody były opodatkowane w formie karty podatkowej . \\nDodatkowe informacje:  \\n• Deklarację PIT -37 można złożyć indywidualnie, wspólnie z małżonkiem lub'),\n",
       " Document(metadata={'source': 'data\\\\college\\\\PIT-37.pdf', 'page': 0, 'id': 'data\\\\college\\\\PIT-37.pdf:0:6'}, page_content='zasadach (formularz PIT -36).  \\n• Dochody były opodatkowane w formie karty podatkowej . \\nDodatkowe informacje:  \\n• Deklarację PIT -37 można złożyć indywidualnie, wspólnie z małżonkiem lub \\njako osoba samotnie wychowująca dziecko . \\n• Termin składania deklaracji  upływa 30 kwietnia  roku następującego po roku \\npodatkowym.  \\n• Można skorzystać z ulg i odliczeń , takich jak:  \\no Ulga na dzieci .'),\n",
       " Document(metadata={'source': 'data\\\\college\\\\PIT-37.pdf', 'page': 0, 'id': 'data\\\\college\\\\PIT-37.pdf:0:7'}, page_content='• Termin składania deklaracji  upływa 30 kwietnia  roku następującego po roku \\npodatkowym.  \\n• Można skorzystać z ulg i odliczeń , takich jak:  \\no Ulga na dzieci . \\no Ulga rehabilitacyjna . \\no Odliczenia darowizn na cele pożytku publicznego . \\n• Deklarację można złożyć elektronicznie  poprzez system e -Deklaracje lub w \\nformie papierowej w urzędzie skarbowym.'),\n",
       " Document(metadata={'source': 'data\\\\college\\\\PIT-38.pdf', 'page': 0, 'id': 'data\\\\college\\\\PIT-38.pdf:0:0'}, page_content='Deklarację PIT -38 składa się w przypadku:  \\n• Uzyskania dochodów z kapitałów pieniężnych , takich jak:  \\no Odpłatne zbycie papierów wartościowych , np. akcji, obligacji.  \\no Odpłatne zbycie pochodnych instrumentów finansowych . \\no Dochody z tytułu objęcia udziałów (akcji) w spółkach  w zamian za \\naport w postaci innej niż przedsiębiorstwo lub jego zorganizowana część.'),\n",
       " Document(metadata={'source': 'data\\\\college\\\\PIT-38.pdf', 'page': 0, 'id': 'data\\\\college\\\\PIT-38.pdf:0:1'}, page_content='o Dochody z tytułu objęcia udziałów (akcji) w spółkach  w zamian za \\naport w postaci innej niż przedsiębiorstwo lub jego zorganizowana część.  \\nDeklaracji PIT -38 nie składa się, gdy:  \\n• Podatnik nie uzyskał w danym roku podatkowym dochodów z kapitałów \\npieniężnych . \\n• Dochody były opodatkowane w inny sposób , np. z tytułu dywidend \\n(opodatkowane ryczałtowo przez płatnika).'),\n",
       " Document(metadata={'source': 'data\\\\college\\\\PIT-38.pdf', 'page': 0, 'id': 'data\\\\college\\\\PIT-38.pdf:0:2'}, page_content='• Podatnik nie uzyskał w danym roku podatkowym dochodów z kapitałów \\npieniężnych . \\n• Dochody były opodatkowane w inny sposób , np. z tytułu dywidend \\n(opodatkowane ryczałtowo przez płatnika).  \\nDodatkowe informacje:  \\n• Termin składania deklaracji  upływa 30 kwietnia  roku następującego po roku \\npodatkowym.  \\n• Straty z lat ubiegłych można odliczyć od dochodów .'),\n",
       " Document(metadata={'source': 'data\\\\college\\\\PIT-38.pdf', 'page': 0, 'id': 'data\\\\college\\\\PIT-38.pdf:0:3'}, page_content='Dodatkowe informacje:  \\n• Termin składania deklaracji  upływa 30 kwietnia  roku następującego po roku \\npodatkowym.  \\n• Straty z lat ubiegłych można odliczyć od dochodów . \\n• Deklarację można złożyć elektronicznie  poprzez system e -Deklaracje.'),\n",
       " Document(metadata={'source': 'data\\\\college\\\\PIT-39.pdf', 'page': 0, 'id': 'data\\\\college\\\\PIT-39.pdf:0:0'}, page_content='Deklarację PIT -39 składa się w przypadku:  \\n• Uzyskania dochodów z odpłatnego zbycia nieruchomości lub praw \\nmajątkowych , takich jak:  \\no Sprzedaż nieruchomości mieszkalnych , np. domu, mieszkania, \\nspółdzielczego własnościowego prawa do lokalu.  \\no Sprzedaż udziału w nieruchomości . \\n• Gdy zbycie nastąpiło przed upływem 5 lat  licząc od końca roku'),\n",
       " Document(metadata={'source': 'data\\\\college\\\\PIT-39.pdf', 'page': 0, 'id': 'data\\\\college\\\\PIT-39.pdf:0:1'}, page_content='spółdzielczego własnościowego prawa do lokalu.  \\no Sprzedaż udziału w nieruchomości . \\n• Gdy zbycie nastąpiło przed upływem 5 lat  licząc od końca roku \\nkalendarzowego, w którym nastąpiło nabycie lub wybudowanie.  \\nDeklaracji PIT -39 nie składa się, gdy:  \\n• Zbycie nastąpiło po upływie 5 lat  od końca roku kalendarzowego, w którym \\nnastąpiło nabycie.'),\n",
       " Document(metadata={'source': 'data\\\\college\\\\PIT-39.pdf', 'page': 0, 'id': 'data\\\\college\\\\PIT-39.pdf:0:2'}, page_content='Deklaracji PIT -39 nie składa się, gdy:  \\n• Zbycie nastąpiło po upływie 5 lat  od końca roku kalendarzowego, w którym \\nnastąpiło nabycie.  \\n• Nieruchomość została nabyta przed 1 stycznia 2009 roku  – wtedy obowiązują \\ninne zasady opodatkowania.  \\nDodatkowe informacje:  \\n• Termin składania deklaracji  upływa 30 kwietnia  roku następującego po roku \\npodatkowym.'),\n",
       " Document(metadata={'source': 'data\\\\college\\\\PIT-39.pdf', 'page': 0, 'id': 'data\\\\college\\\\PIT-39.pdf:0:3'}, page_content='inne zasady opodatkowania.  \\nDodatkowe informacje:  \\n• Termin składania deklaracji  upływa 30 kwietnia  roku następującego po roku \\npodatkowym.  \\n• Można skorzystać z ulgi mieszkaniowej , czyli zwolnienia dochodu \\nprzeznaczonego na własne cele mieszkaniowe w ciągu 3 lat od sprzedaży.  \\n• Stawka podatku wynosi 19%  od dochodu (przychód minus koszty).'),\n",
       " Document(metadata={'source': 'data\\\\college\\\\PIT-39.pdf', 'page': 0, 'id': 'data\\\\college\\\\PIT-39.pdf:0:4'}, page_content='przeznaczonego na własne cele mieszkaniowe w ciągu 3 lat od sprzedaży.  \\n• Stawka podatku wynosi 19%  od dochodu (przychód minus koszty).  \\n• Deklarację można złożyć elektronicznie  lub w formie papierowej.'),\n",
       " Document(metadata={'source': 'data\\\\college\\\\SD-Z2.pdf', 'page': 0, 'id': 'data\\\\college\\\\SD-Z2.pdf:0:0'}, page_content='Zgłoszenie SD -Z2 składa się w przypadku:  \\n• Nabycia majątku w drodze dziedziczenia, darowizny lub nieodpłatnego \\nzniesienia współwłasności  przez osoby zaliczane do tzw. grupy zerowej , czyli \\nnajbliższej rodziny:  \\no Małżonek . \\no Zstępni  (dzieci, wnuki, prawnuki).  \\no Wstępni  (rodzice, dziadkowie).  \\no Pasierb, rodzeństwo, ojczym, macocha . \\nZgłoszenia SD -Z2 nie składa się, gdy:'),\n",
       " Document(metadata={'source': 'data\\\\college\\\\SD-Z2.pdf', 'page': 0, 'id': 'data\\\\college\\\\SD-Z2.pdf:0:1'}, page_content='najbliższej rodziny:  \\no Małżonek . \\no Zstępni  (dzieci, wnuki, prawnuki).  \\no Wstępni  (rodzice, dziadkowie).  \\no Pasierb, rodzeństwo, ojczym, macocha . \\nZgłoszenia SD -Z2 nie składa się, gdy:  \\n• Wartość nabytego majątku nie przekracza kwoty wolnej od podatku , która \\ndla najbliższej rodziny wynosi 9 637 zł . \\n• Nabycie majątku nastąpiło na podstawie umowy w formie aktu notarialnego'),\n",
       " Document(metadata={'source': 'data\\\\college\\\\SD-Z2.pdf', 'page': 0, 'id': 'data\\\\college\\\\SD-Z2.pdf:0:2'}, page_content='• Wartość nabytego majątku nie przekracza kwoty wolnej od podatku , która \\ndla najbliższej rodziny wynosi 9 637 zł . \\n• Nabycie majątku nastąpiło na podstawie umowy w formie aktu notarialnego  \\n– wtedy notariusz zgłasza to do urzędu skarbowego.  \\nDodatkowe informacje:  \\n• Termin na złożenie zgłoszenia  wynosi 6 miesięcy  od dnia powstania'),\n",
       " Document(metadata={'source': 'data\\\\college\\\\SD-Z2.pdf', 'page': 0, 'id': 'data\\\\college\\\\SD-Z2.pdf:0:3'}, page_content='– wtedy notariusz zgłasza to do urzędu skarbowego.  \\nDodatkowe informacje:  \\n• Termin na złożenie zgłoszenia  wynosi 6 miesięcy  od dnia powstania \\nobowiązku podatkowego, np. od dnia uprawomocnienia się postanowienia o \\nstwierdzeniu nabycia spadku.  \\n• Zgłoszenie pozwala na skorzystanie ze zwolnienia od podatku od spadków i \\ndarowizn  dla najbliższej rodziny.'),\n",
       " Document(metadata={'source': 'data\\\\college\\\\SD-Z2.pdf', 'page': 0, 'id': 'data\\\\college\\\\SD-Z2.pdf:0:4'}, page_content='stwierdzeniu nabycia spadku.  \\n• Zgłoszenie pozwala na skorzystanie ze zwolnienia od podatku od spadków i \\ndarowizn  dla najbliższej rodziny.  \\n• Formularz SD -Z2 składa się w urzędzie skarbowym właściwym ze względu \\nna miejsce zamieszkania nabywcy . \\n• Niezłożenie zgłoszenia w terminie powoduje utratę prawa do zwolnienia  i \\nkonieczność zapłaty podatku.'),\n",
       " Document(metadata={'source': 'data\\\\college\\\\VAT-12.pdf', 'page': 0, 'id': 'data\\\\college\\\\VAT-12.pdf:0:0'}, page_content='Deklarację VAT -12 składa się w przypadku:  \\n• Podatników świadczących usługi taksówek osobowych , którzy wybrali \\nopodatkowanie w formie ryczałtu (4% stawka VAT).  \\nDeklaracji VAT -12 nie składa się, gdy:  \\n• Podatnik nie wybrał ryczałtu ewidencjonowanego dla usług taksówkowych . \\n• Świadczy inne usługi lub sprzedaje towary opodatkowane na zasadach \\nogólnych . \\nDodatkowe informacje:'),\n",
       " Document(metadata={'source': 'data\\\\college\\\\VAT-12.pdf', 'page': 0, 'id': 'data\\\\college\\\\VAT-12.pdf:0:1'}, page_content='• Podatnik nie wybrał ryczałtu ewidencjonowanego dla usług taksówkowych . \\n• Świadczy inne usługi lub sprzedaje towary opodatkowane na zasadach \\nogólnych . \\nDodatkowe informacje:  \\n• Deklarację VAT -12 składa się miesięcznie , do 25. dnia miesiąca  \\nnastępującego po każdym kolejnym miesiącu.  \\n• Deklarację należy złożyć elektronicznie .'),\n",
       " Document(metadata={'source': 'data\\\\college\\\\VAT-7.pdf', 'page': 0, 'id': 'data\\\\college\\\\VAT-7.pdf:0:0'}, page_content='Deklarację VAT -7 składa się w przypadku:  \\n• Podmiotów będących czynnymi podatnikami VAT , zobowiązanych do \\nrozliczania podatku od towarów i usług.  \\n• Gdy dokonuje się sprzedaży towarów lub usług opodatkowanych VAT  na \\nterytorium kraju.  \\n• Gdy dokonuje się wewnątrzwspólnotowego nabycia towarów  lub importu \\nusług.  \\nDeklaracji VAT -7 nie składa się, gdy:'),\n",
       " Document(metadata={'source': 'data\\\\college\\\\VAT-7.pdf', 'page': 0, 'id': 'data\\\\college\\\\VAT-7.pdf:0:1'}, page_content='terytorium kraju.  \\n• Gdy dokonuje się wewnątrzwspólnotowego nabycia towarów  lub importu \\nusług.  \\nDeklaracji VAT -7 nie składa się, gdy:  \\n• Podatnik jest zwolniony podmiotowo z VAT , np. ze względu na \\nnieprzekroczenie limitu obrotów (200 000 zł rocznie).  \\n• Podatnik rozlicza się kwartalnie  – wtedy składa deklarację VAT -7K.'),\n",
       " Document(metadata={'source': 'data\\\\college\\\\VAT-7.pdf', 'page': 0, 'id': 'data\\\\college\\\\VAT-7.pdf:0:2'}, page_content='• Podatnik jest zwolniony podmiotowo z VAT , np. ze względu na \\nnieprzekroczenie limitu obrotów (200 000 zł rocznie).  \\n• Podatnik rozlicza się kwartalnie  – wtedy składa deklarację VAT -7K. \\n• Podatnik korzysta z uproszczonej formy rozliczeń , np. ryczałtu dla rolników.  \\nDodatkowe informacje:  \\n• Deklarację VAT -7 składa się miesięcznie , do 25. dnia miesiąca  następującego'),\n",
       " Document(metadata={'source': 'data\\\\college\\\\VAT-7.pdf', 'page': 0, 'id': 'data\\\\college\\\\VAT-7.pdf:0:3'}, page_content='• Podatnik korzysta z uproszczonej formy rozliczeń , np. ryczałtu dla rolników.  \\nDodatkowe informacje:  \\n• Deklarację VAT -7 składa się miesięcznie , do 25. dnia miesiąca  następującego \\npo każdym kolejnym miesiącu.  \\n• Deklarację należy złożyć elektronicznie  – forma papierowa nie jest \\nakceptowana.  \\n• W deklaracji wykazuje się kwoty podatku należnego i naliczonego , co'),\n",
       " Document(metadata={'source': 'data\\\\college\\\\VAT-7.pdf', 'page': 0, 'id': 'data\\\\college\\\\VAT-7.pdf:0:4'}, page_content='po każdym kolejnym miesiącu.  \\n• Deklarację należy złożyć elektronicznie  – forma papierowa nie jest \\nakceptowana.  \\n• W deklaracji wykazuje się kwoty podatku należnego i naliczonego , co \\npozwala na obliczenie kwoty do zapłaty lub zwrotu.  \\n• Podatnik może skorzystać z różnych metod rozliczania VAT , takich jak:  \\no Metoda kasowa . \\no Odliczenia proporcjonalne  w przypadku sprzedaży mieszanej.'),\n",
       " Document(metadata={'source': 'data\\\\college\\\\VAT-7.pdf', 'page': 0, 'id': 'data\\\\college\\\\VAT-7.pdf:0:5'}, page_content='• Podatnik może skorzystać z różnych metod rozliczania VAT , takich jak:  \\no Metoda kasowa . \\no Odliczenia proporcjonalne  w przypadku sprzedaży mieszanej.'),\n",
       " Document(metadata={'source': 'data\\\\college\\\\VAT-9M.pdf', 'page': 0, 'id': 'data\\\\college\\\\VAT-9M.pdf:0:0'}, page_content='Deklarację VAT -9M składa się w przypadku:  \\n• Podatników zwolnionych podmiotowo z VAT , którzy:  \\no Są zobowiązani do zapłaty VAT z tytułu importu usług  lub dostawy \\ntowarów, dla których podatnikiem jest nabywca.  \\no Dokonują nabycia towarów z innych krajów UE , a wartość transakcji \\nnie przekracza limitu 50 000 zł rocznie.  \\nDeklaracji VAT -9M nie składa się, gdy:'),\n",
       " Document(metadata={'source': 'data\\\\college\\\\VAT-9M.pdf', 'page': 0, 'id': 'data\\\\college\\\\VAT-9M.pdf:0:1'}, page_content='o Dokonują nabycia towarów z innych krajów UE , a wartość transakcji \\nnie przekracza limitu 50 000 zł rocznie.  \\nDeklaracji VAT -9M nie składa się, gdy:  \\n• Podatnik jest czynnym podatnikiem VAT  – wtedy rozlicza te transakcje w \\ndeklaracji VAT -7 lub VAT -7K. \\n• Nie wystąpiły transakcje powodujące obowiązek zapłaty VAT przez \\npodatnika zwolnionego . \\nDodatkowe informacje:'),\n",
       " Document(metadata={'source': 'data\\\\college\\\\VAT-9M.pdf', 'page': 0, 'id': 'data\\\\college\\\\VAT-9M.pdf:0:2'}, page_content='deklaracji VAT -7 lub VAT -7K. \\n• Nie wystąpiły transakcje powodujące obowiązek zapłaty VAT przez \\npodatnika zwolnionego . \\nDodatkowe informacje:  \\n• Deklarację VAT -9M składa się w terminie do 25. dnia miesiąca  następującego \\npo miesiącu, w którym powstał obowiązek podatkowy.  \\n• Deklarację należy złożyć elektronicznie .'),\n",
       " Document(metadata={'source': 'data\\\\college\\\\VAT-R.pdf', 'page': 0, 'id': 'data\\\\college\\\\VAT-R.pdf:0:0'}, page_content='Deklarację VAT -R składa się w przypadku:  \\n• Rejestracji jako podatnik VAT czynny lub zwolniony , gdy:  \\no Podatnik rozpoczyna działalność gospodarczą  i chce zarejestrować się \\njako podatnik VAT.  \\no Podatnik rezygnuje ze zwolnienia podmiotowego z VAT  (np. przekroczył \\nlimit 200 000 zł obrotu).  \\n• Zmiany danych dotyczących rejestracji , np. zmiana adresu, nazwy firmy.'),\n",
       " Document(metadata={'source': 'data\\\\college\\\\VAT-R.pdf', 'page': 0, 'id': 'data\\\\college\\\\VAT-R.pdf:0:1'}, page_content='jako podatnik VAT.  \\no Podatnik rezygnuje ze zwolnienia podmiotowego z VAT  (np. przekroczył \\nlimit 200 000 zł obrotu).  \\n• Zmiany danych dotyczących rejestracji , np. zmiana adresu, nazwy firmy.  \\nDeklaracji VAT -R nie składa się, gdy:  \\n• Podatnik korzysta ze zwolnienia podmiotowego z VAT  i nie zamierza \\nrejestrować się jako podatnik VAT czynny.'),\n",
       " Document(metadata={'source': 'data\\\\college\\\\VAT-R.pdf', 'page': 0, 'id': 'data\\\\college\\\\VAT-R.pdf:0:2'}, page_content='Deklaracji VAT -R nie składa się, gdy:  \\n• Podatnik korzysta ze zwolnienia podmiotowego z VAT  i nie zamierza \\nrejestrować się jako podatnik VAT czynny.  \\n• Nie nastąpiły żadne zmiany wymagające aktualizacji danych . \\nDodatkowe informacje:  \\n• Formularz VAT -R składa się przed dniem wykonania pierwszej czynności \\npodlegającej opodatkowaniu VAT .'),\n",
       " Document(metadata={'source': 'data\\\\college\\\\VAT-R.pdf', 'page': 0, 'id': 'data\\\\college\\\\VAT-R.pdf:0:3'}, page_content='• Nie nastąpiły żadne zmiany wymagające aktualizacji danych . \\nDodatkowe informacje:  \\n• Formularz VAT -R składa się przed dniem wykonania pierwszej czynności \\npodlegającej opodatkowaniu VAT . \\n• Opłata skarbowa za złożenie formularza wynosi 170 zł , ale jest ona wymagana \\ntylko w przypadku pełnomocnictwa.  \\n• Formularz składa się w urzędzie skarbowym właściwym dla podatnika .'),\n",
       " Document(metadata={'source': 'data\\\\college\\\\VAT-UE.pdf', 'page': 0, 'id': 'data\\\\college\\\\VAT-UE.pdf:0:0'}, page_content='Informację podsumowującą VAT -UE składa się w przypadku:  \\n• Dokonywania transakcji wewnątrzwspólnotowych , takich jak:  \\no Wewnątrzwspólnotowa dostawa towarów (WDT) . \\no Wewnątrzwspólnotowe nabycie towarów (WNT) . \\no Świadczenie usług na rzecz podatników z innych krajów UE , gdy \\nmiejscem świadczenia jest kraj nabywcy.  \\nInformacji VAT -UE nie składa się, gdy:'),\n",
       " Document(metadata={'source': 'data\\\\college\\\\VAT-UE.pdf', 'page': 0, 'id': 'data\\\\college\\\\VAT-UE.pdf:0:1'}, page_content='o Wewnątrzwspólnotowe nabycie towarów (WNT) . \\no Świadczenie usług na rzecz podatników z innych krajów UE , gdy \\nmiejscem świadczenia jest kraj nabywcy.  \\nInformacji VAT -UE nie składa się, gdy:  \\n• Podatnik nie dokonuje żadnych transakcji wewnątrzwspólnotowych . \\n• Transakcje są zwolnione z VAT  lub dotyczą sprzedaży detalicznej na odległość \\nnieprzekraczającej limitów.  \\nDodatkowe informacje:'),\n",
       " Document(metadata={'source': 'data\\\\college\\\\VAT-UE.pdf', 'page': 0, 'id': 'data\\\\college\\\\VAT-UE.pdf:0:2'}, page_content='• Transakcje są zwolnione z VAT  lub dotyczą sprzedaży detalicznej na odległość \\nnieprzekraczającej limitów.  \\nDodatkowe informacje:  \\n• Informację VAT -UE składa się za okresy miesięczne lub kwartalne , w \\nzależności od statusu podatnika.  \\n• Termin składania  upływa 25. dnia miesiąca  następującego po okresie \\nrozliczeniowym.  \\n• Informację należy złożyć elektronicznie .')]"
      ]
     },
     "execution_count": 5,
     "metadata": {},
     "output_type": "execute_result"
    }
   ],
   "source": [
    "document_chunks"
   ]
  },
  {
   "cell_type": "code",
   "execution_count": 6,
   "metadata": {},
   "outputs": [
    {
     "data": {
      "text/plain": [
       "62"
      ]
     },
     "execution_count": 6,
     "metadata": {},
     "output_type": "execute_result"
    }
   ],
   "source": [
    "len(document_chunks)"
   ]
  },
  {
   "cell_type": "code",
   "execution_count": 7,
   "metadata": {},
   "outputs": [],
   "source": [
    "# save document_chunks to a file\n",
    "with open(\"document_chunks_FastEmbedEmbeddings_college.pkl\", \"wb\") as f:\n",
    "    pickle.dump(document_chunks, f)"
   ]
  },
  {
   "cell_type": "code",
   "execution_count": 8,
   "metadata": {},
   "outputs": [],
   "source": [
    "# %pip install langchain-elasticsearch langchain-community langchain_experimental langchain_openai tqdm pypdf streamlit fastembed --use-pep517"
   ]
  },
  {
   "cell_type": "markdown",
   "metadata": {},
   "source": [
    "Prepare database"
   ]
  },
  {
   "cell_type": "code",
   "execution_count": 13,
   "metadata": {
    "ExecuteTime": {
     "end_time": "2024-09-28T20:44:49.260104Z",
     "start_time": "2024-09-28T20:44:49.212721Z"
    }
   },
   "outputs": [],
   "source": [
    "from langchain_ollama import OllamaEmbeddings\n",
    "\n",
    "embedding = OllamaEmbeddings(\n",
    "    model=\"Lexi-Llama-3-8B-Uncensored_Q8_0.gguf\",\n",
    ")\n",
    "db_kwargs = {\n",
    "    \"embedding\": embedding,\n",
    "    \"es_url\": \"http://localhost:9200\",\n",
    "    \"index_name\": \"rag\",\n",
    "    \"distance_strategy\": \"COSINE\"\n",
    "}"
   ]
  },
  {
   "cell_type": "code",
   "execution_count": 14,
   "metadata": {
    "ExecuteTime": {
     "end_time": "2024-09-28T20:44:51.383589Z",
     "start_time": "2024-09-28T20:44:51.336420Z"
    }
   },
   "outputs": [
    {
     "name": "stdout",
     "output_type": "stream",
     "text": [
      "Index 'rag' does not exist.\n"
     ]
    }
   ],
   "source": [
    "# clear index \n",
    "remove_index(index_name=db_kwargs[\"index_name\"], db_config={\"hosts\": db_kwargs[\"es_url\"]})"
   ]
  },
  {
   "cell_type": "code",
   "execution_count": 15,
   "metadata": {
    "ExecuteTime": {
     "end_time": "2024-09-28T20:44:56.000060Z",
     "start_time": "2024-09-28T20:44:55.968386Z"
    }
   },
   "outputs": [
    {
     "name": "stdout",
     "output_type": "stream",
     "text": [
      "<class 'list'> <class 'dict'>\n"
     ]
    }
   ],
   "source": [
    "#print type of document_chunks, db_kwargs\n",
    "print(type(document_chunks), type(db_kwargs))"
   ]
  },
  {
   "cell_type": "code",
   "execution_count": 16,
   "metadata": {
    "ExecuteTime": {
     "end_time": "2024-09-28T20:45:00.607612Z",
     "start_time": "2024-09-28T20:44:57.867081Z"
    }
   },
   "outputs": [
    {
     "name": "stdout",
     "output_type": "stream",
     "text": [
      "Bulk ingesting documents...\n"
     ]
    },
    {
     "ename": "ResponseError",
     "evalue": "model \"Lexi-Llama-3-8B-Uncensored_Q8_0\" not found, try pulling it first",
     "output_type": "error",
     "traceback": [
      "\u001b[1;31m---------------------------------------------------------------------------\u001b[0m",
      "\u001b[1;31mResponseError\u001b[0m                             Traceback (most recent call last)",
      "Cell \u001b[1;32mIn[16], line 1\u001b[0m\n\u001b[1;32m----> 1\u001b[0m db \u001b[38;5;241m=\u001b[39m \u001b[43madd_documents_to_db\u001b[49m\u001b[43m(\u001b[49m\u001b[43mdb\u001b[49m\u001b[38;5;241;43m=\u001b[39;49m\u001b[38;5;28;43;01mNone\u001b[39;49;00m\u001b[43m,\u001b[49m\u001b[43m \u001b[49m\u001b[43mdocument_chunks\u001b[49m\u001b[38;5;241;43m=\u001b[39;49m\u001b[43mdocument_chunks\u001b[49m\u001b[43m,\u001b[49m\u001b[43m \u001b[49m\u001b[43mdb_kwargs\u001b[49m\u001b[38;5;241;43m=\u001b[39;49m\u001b[43mdb_kwargs\u001b[49m\u001b[43m,\u001b[49m\u001b[43m \u001b[49m\u001b[43mbulk_upload\u001b[49m\u001b[38;5;241;43m=\u001b[39;49m\u001b[38;5;28;43;01mTrue\u001b[39;49;00m\u001b[43m)\u001b[49m\n",
      "File \u001b[1;32mc:\\Users\\krzys\\Repositories\\HackYeah2024\\RAG-System\\db_utils.py:19\u001b[0m, in \u001b[0;36madd_documents_to_db\u001b[1;34m(db, document_chunks, db_kwargs, bulk_upload)\u001b[0m\n\u001b[0;32m     17\u001b[0m         db\u001b[38;5;241m.\u001b[39madd_documents(document_chunks)\n\u001b[0;32m     18\u001b[0m     \u001b[38;5;28;01melse\u001b[39;00m:\n\u001b[1;32m---> 19\u001b[0m         db \u001b[38;5;241m=\u001b[39m \u001b[43mElasticsearchStore\u001b[49m\u001b[38;5;241;43m.\u001b[39;49m\u001b[43mfrom_documents\u001b[49m\u001b[43m(\u001b[49m\u001b[43mdocument_chunks\u001b[49m\u001b[43m,\u001b[49m\u001b[43m \u001b[49m\u001b[38;5;241;43m*\u001b[39;49m\u001b[38;5;241;43m*\u001b[39;49m\u001b[43mdb_kwargs\u001b[49m\u001b[43m)\u001b[49m\n\u001b[0;32m     20\u001b[0m \u001b[38;5;28;01melse\u001b[39;00m:\n\u001b[0;32m     21\u001b[0m     \u001b[38;5;28;01mwith\u001b[39;00m tqdm(total\u001b[38;5;241m=\u001b[39m\u001b[38;5;28mlen\u001b[39m(document_chunks), desc\u001b[38;5;241m=\u001b[39m\u001b[38;5;124m\"\u001b[39m\u001b[38;5;124mIngesting documents\u001b[39m\u001b[38;5;124m\"\u001b[39m) \u001b[38;5;28;01mas\u001b[39;00m pbar:\n",
      "File \u001b[1;32mc:\\Users\\krzys\\AppData\\Local\\Programs\\Python\\Python312\\Lib\\site-packages\\langchain_elasticsearch\\vectorstores.py:1242\u001b[0m, in \u001b[0;36mElasticsearchStore.from_documents\u001b[1;34m(cls, documents, embedding, bulk_kwargs, **kwargs)\u001b[0m\n\u001b[0;32m   1239\u001b[0m elasticsearchStore \u001b[38;5;241m=\u001b[39m ElasticsearchStore(embedding\u001b[38;5;241m=\u001b[39membedding, \u001b[38;5;241m*\u001b[39m\u001b[38;5;241m*\u001b[39mkwargs)\n\u001b[0;32m   1241\u001b[0m \u001b[38;5;66;03m# Encode the provided texts and add them to the newly created index.\u001b[39;00m\n\u001b[1;32m-> 1242\u001b[0m \u001b[43melasticsearchStore\u001b[49m\u001b[38;5;241;43m.\u001b[39;49m\u001b[43madd_documents\u001b[49m\u001b[43m(\u001b[49m\u001b[43mdocuments\u001b[49m\u001b[43m,\u001b[49m\u001b[43m \u001b[49m\u001b[43mbulk_kwargs\u001b[49m\u001b[38;5;241;43m=\u001b[39;49m\u001b[43mbulk_kwargs\u001b[49m\u001b[43m)\u001b[49m\n\u001b[0;32m   1244\u001b[0m \u001b[38;5;28;01mreturn\u001b[39;00m elasticsearchStore\n",
      "File \u001b[1;32mc:\\Users\\krzys\\AppData\\Local\\Programs\\Python\\Python312\\Lib\\site-packages\\langchain_core\\vectorstores\\base.py:277\u001b[0m, in \u001b[0;36mVectorStore.add_documents\u001b[1;34m(self, documents, **kwargs)\u001b[0m\n\u001b[0;32m    275\u001b[0m     texts \u001b[38;5;241m=\u001b[39m [doc\u001b[38;5;241m.\u001b[39mpage_content \u001b[38;5;28;01mfor\u001b[39;00m doc \u001b[38;5;129;01min\u001b[39;00m documents]\n\u001b[0;32m    276\u001b[0m     metadatas \u001b[38;5;241m=\u001b[39m [doc\u001b[38;5;241m.\u001b[39mmetadata \u001b[38;5;28;01mfor\u001b[39;00m doc \u001b[38;5;129;01min\u001b[39;00m documents]\n\u001b[1;32m--> 277\u001b[0m     \u001b[38;5;28;01mreturn\u001b[39;00m \u001b[38;5;28;43mself\u001b[39;49m\u001b[38;5;241;43m.\u001b[39;49m\u001b[43madd_texts\u001b[49m\u001b[43m(\u001b[49m\u001b[43mtexts\u001b[49m\u001b[43m,\u001b[49m\u001b[43m \u001b[49m\u001b[43mmetadatas\u001b[49m\u001b[43m,\u001b[49m\u001b[43m \u001b[49m\u001b[38;5;241;43m*\u001b[39;49m\u001b[38;5;241;43m*\u001b[39;49m\u001b[43mkwargs\u001b[49m\u001b[43m)\u001b[49m\n\u001b[0;32m    278\u001b[0m \u001b[38;5;28;01mraise\u001b[39;00m \u001b[38;5;167;01mNotImplementedError\u001b[39;00m(\n\u001b[0;32m    279\u001b[0m     \u001b[38;5;124mf\u001b[39m\u001b[38;5;124m\"\u001b[39m\u001b[38;5;124m`add_documents` and `add_texts` has not been implemented \u001b[39m\u001b[38;5;124m\"\u001b[39m\n\u001b[0;32m    280\u001b[0m     \u001b[38;5;124mf\u001b[39m\u001b[38;5;124m\"\u001b[39m\u001b[38;5;124mfor \u001b[39m\u001b[38;5;132;01m{\u001b[39;00m\u001b[38;5;28mself\u001b[39m\u001b[38;5;241m.\u001b[39m\u001b[38;5;18m__class__\u001b[39m\u001b[38;5;241m.\u001b[39m\u001b[38;5;18m__name__\u001b[39m\u001b[38;5;132;01m}\u001b[39;00m\u001b[38;5;124m \u001b[39m\u001b[38;5;124m\"\u001b[39m\n\u001b[0;32m    281\u001b[0m )\n",
      "File \u001b[1;32mc:\\Users\\krzys\\AppData\\Local\\Programs\\Python\\Python312\\Lib\\site-packages\\langchain_elasticsearch\\vectorstores.py:1082\u001b[0m, in \u001b[0;36mElasticsearchStore.add_texts\u001b[1;34m(self, texts, metadatas, ids, refresh_indices, create_index_if_not_exists, bulk_kwargs, **kwargs)\u001b[0m\n\u001b[0;32m   1055\u001b[0m \u001b[38;5;28;01mdef\u001b[39;00m \u001b[38;5;21madd_texts\u001b[39m(\n\u001b[0;32m   1056\u001b[0m     \u001b[38;5;28mself\u001b[39m,\n\u001b[0;32m   1057\u001b[0m     texts: Iterable[\u001b[38;5;28mstr\u001b[39m],\n\u001b[1;32m   (...)\u001b[0m\n\u001b[0;32m   1063\u001b[0m     \u001b[38;5;241m*\u001b[39m\u001b[38;5;241m*\u001b[39mkwargs: Any,\n\u001b[0;32m   1064\u001b[0m ) \u001b[38;5;241m-\u001b[39m\u001b[38;5;241m>\u001b[39m List[\u001b[38;5;28mstr\u001b[39m]:\n\u001b[0;32m   1065\u001b[0m \u001b[38;5;250m    \u001b[39m\u001b[38;5;124;03m\"\"\"Run more texts through the embeddings and add to the store.\u001b[39;00m\n\u001b[0;32m   1066\u001b[0m \n\u001b[0;32m   1067\u001b[0m \u001b[38;5;124;03m    Args:\u001b[39;00m\n\u001b[1;32m   (...)\u001b[0m\n\u001b[0;32m   1080\u001b[0m \u001b[38;5;124;03m        List of ids from adding the texts into the store.\u001b[39;00m\n\u001b[0;32m   1081\u001b[0m \u001b[38;5;124;03m    \"\"\"\u001b[39;00m\n\u001b[1;32m-> 1082\u001b[0m     \u001b[38;5;28;01mreturn\u001b[39;00m \u001b[38;5;28;43mself\u001b[39;49m\u001b[38;5;241;43m.\u001b[39;49m\u001b[43m_store\u001b[49m\u001b[38;5;241;43m.\u001b[39;49m\u001b[43madd_texts\u001b[49m\u001b[43m(\u001b[49m\n\u001b[0;32m   1083\u001b[0m \u001b[43m        \u001b[49m\u001b[43mtexts\u001b[49m\u001b[38;5;241;43m=\u001b[39;49m\u001b[38;5;28;43mlist\u001b[39;49m\u001b[43m(\u001b[49m\u001b[43mtexts\u001b[49m\u001b[43m)\u001b[49m\u001b[43m,\u001b[49m\n\u001b[0;32m   1084\u001b[0m \u001b[43m        \u001b[49m\u001b[43mmetadatas\u001b[49m\u001b[38;5;241;43m=\u001b[39;49m\u001b[43mmetadatas\u001b[49m\u001b[43m,\u001b[49m\n\u001b[0;32m   1085\u001b[0m \u001b[43m        \u001b[49m\u001b[43mids\u001b[49m\u001b[38;5;241;43m=\u001b[39;49m\u001b[43mids\u001b[49m\u001b[43m,\u001b[49m\n\u001b[0;32m   1086\u001b[0m \u001b[43m        \u001b[49m\u001b[43mrefresh_indices\u001b[49m\u001b[38;5;241;43m=\u001b[39;49m\u001b[43mrefresh_indices\u001b[49m\u001b[43m,\u001b[49m\n\u001b[0;32m   1087\u001b[0m \u001b[43m        \u001b[49m\u001b[43mcreate_index_if_not_exists\u001b[49m\u001b[38;5;241;43m=\u001b[39;49m\u001b[43mcreate_index_if_not_exists\u001b[49m\u001b[43m,\u001b[49m\n\u001b[0;32m   1088\u001b[0m \u001b[43m        \u001b[49m\u001b[43mbulk_kwargs\u001b[49m\u001b[38;5;241;43m=\u001b[39;49m\u001b[43mbulk_kwargs\u001b[49m\u001b[43m,\u001b[49m\n\u001b[0;32m   1089\u001b[0m \u001b[43m    \u001b[49m\u001b[43m)\u001b[49m\n",
      "File \u001b[1;32mc:\\Users\\krzys\\AppData\\Local\\Programs\\Python\\Python312\\Lib\\site-packages\\elasticsearch\\helpers\\vectorstore\\_sync\\vectorstore.py:135\u001b[0m, in \u001b[0;36mVectorStore.add_texts\u001b[1;34m(self, texts, metadatas, vectors, ids, refresh_indices, create_index_if_not_exists, bulk_kwargs)\u001b[0m\n\u001b[0;32m    132\u001b[0m requests \u001b[38;5;241m=\u001b[39m []\n\u001b[0;32m    134\u001b[0m \u001b[38;5;28;01mif\u001b[39;00m create_index_if_not_exists:\n\u001b[1;32m--> 135\u001b[0m     \u001b[38;5;28;43mself\u001b[39;49m\u001b[38;5;241;43m.\u001b[39;49m\u001b[43m_create_index_if_not_exists\u001b[49m\u001b[43m(\u001b[49m\u001b[43m)\u001b[49m\n\u001b[0;32m    137\u001b[0m \u001b[38;5;28;01mif\u001b[39;00m \u001b[38;5;28mself\u001b[39m\u001b[38;5;241m.\u001b[39membedding_service \u001b[38;5;129;01mand\u001b[39;00m \u001b[38;5;129;01mnot\u001b[39;00m vectors:\n\u001b[0;32m    138\u001b[0m     vectors \u001b[38;5;241m=\u001b[39m \u001b[38;5;28mself\u001b[39m\u001b[38;5;241m.\u001b[39membedding_service\u001b[38;5;241m.\u001b[39membed_documents(texts)\n",
      "File \u001b[1;32mc:\\Users\\krzys\\AppData\\Local\\Programs\\Python\\Python312\\Lib\\site-packages\\elasticsearch\\helpers\\vectorstore\\_sync\\vectorstore.py:305\u001b[0m, in \u001b[0;36mVectorStore._create_index_if_not_exists\u001b[1;34m(self)\u001b[0m\n\u001b[0;32m    300\u001b[0m         \u001b[38;5;28;01mraise\u001b[39;00m \u001b[38;5;167;01mValueError\u001b[39;00m(\n\u001b[0;32m    301\u001b[0m             \u001b[38;5;124m\"\u001b[39m\u001b[38;5;124mretrieval strategy requires embeddings; either embedding_service \u001b[39m\u001b[38;5;124m\"\u001b[39m\n\u001b[0;32m    302\u001b[0m             \u001b[38;5;124m\"\u001b[39m\u001b[38;5;124mor num_dimensions need to be specified\u001b[39m\u001b[38;5;124m\"\u001b[39m\n\u001b[0;32m    303\u001b[0m         )\n\u001b[0;32m    304\u001b[0m     \u001b[38;5;28;01mif\u001b[39;00m \u001b[38;5;129;01mnot\u001b[39;00m \u001b[38;5;28mself\u001b[39m\u001b[38;5;241m.\u001b[39mnum_dimensions \u001b[38;5;129;01mand\u001b[39;00m \u001b[38;5;28mself\u001b[39m\u001b[38;5;241m.\u001b[39membedding_service:\n\u001b[1;32m--> 305\u001b[0m         vector \u001b[38;5;241m=\u001b[39m \u001b[38;5;28;43mself\u001b[39;49m\u001b[38;5;241;43m.\u001b[39;49m\u001b[43membedding_service\u001b[49m\u001b[38;5;241;43m.\u001b[39;49m\u001b[43membed_query\u001b[49m\u001b[43m(\u001b[49m\u001b[38;5;124;43m\"\u001b[39;49m\u001b[38;5;124;43mget num dimensions\u001b[39;49m\u001b[38;5;124;43m\"\u001b[39;49m\u001b[43m)\u001b[49m\n\u001b[0;32m    306\u001b[0m         \u001b[38;5;28mself\u001b[39m\u001b[38;5;241m.\u001b[39mnum_dimensions \u001b[38;5;241m=\u001b[39m \u001b[38;5;28mlen\u001b[39m(vector)\n\u001b[0;32m    308\u001b[0m mappings, settings \u001b[38;5;241m=\u001b[39m \u001b[38;5;28mself\u001b[39m\u001b[38;5;241m.\u001b[39mretrieval_strategy\u001b[38;5;241m.\u001b[39mes_mappings_settings(\n\u001b[0;32m    309\u001b[0m     text_field\u001b[38;5;241m=\u001b[39m\u001b[38;5;28mself\u001b[39m\u001b[38;5;241m.\u001b[39mtext_field,\n\u001b[0;32m    310\u001b[0m     vector_field\u001b[38;5;241m=\u001b[39m\u001b[38;5;28mself\u001b[39m\u001b[38;5;241m.\u001b[39mvector_field,\n\u001b[0;32m    311\u001b[0m     num_dimensions\u001b[38;5;241m=\u001b[39m\u001b[38;5;28mself\u001b[39m\u001b[38;5;241m.\u001b[39mnum_dimensions,\n\u001b[0;32m    312\u001b[0m )\n",
      "File \u001b[1;32mc:\\Users\\krzys\\AppData\\Local\\Programs\\Python\\Python312\\Lib\\site-packages\\langchain_elasticsearch\\embeddings.py:251\u001b[0m, in \u001b[0;36mEmbeddingServiceAdapter.embed_query\u001b[1;34m(self, text)\u001b[0m\n\u001b[0;32m    241\u001b[0m \u001b[38;5;28;01mdef\u001b[39;00m \u001b[38;5;21membed_query\u001b[39m(\u001b[38;5;28mself\u001b[39m, text: \u001b[38;5;28mstr\u001b[39m) \u001b[38;5;241m-\u001b[39m\u001b[38;5;241m>\u001b[39m List[\u001b[38;5;28mfloat\u001b[39m]:\n\u001b[0;32m    242\u001b[0m \u001b[38;5;250m    \u001b[39m\u001b[38;5;124;03m\"\"\"\u001b[39;00m\n\u001b[0;32m    243\u001b[0m \u001b[38;5;124;03m    Generate an embedding for a single query text.\u001b[39;00m\n\u001b[0;32m    244\u001b[0m \n\u001b[1;32m   (...)\u001b[0m\n\u001b[0;32m    249\u001b[0m \u001b[38;5;124;03m        List[float]: The embedding for the input query text.\u001b[39;00m\n\u001b[0;32m    250\u001b[0m \u001b[38;5;124;03m    \"\"\"\u001b[39;00m\n\u001b[1;32m--> 251\u001b[0m     \u001b[38;5;28;01mreturn\u001b[39;00m \u001b[38;5;28;43mself\u001b[39;49m\u001b[38;5;241;43m.\u001b[39;49m\u001b[43m_langchain_embeddings\u001b[49m\u001b[38;5;241;43m.\u001b[39;49m\u001b[43membed_query\u001b[49m\u001b[43m(\u001b[49m\u001b[43mtext\u001b[49m\u001b[43m)\u001b[49m\n",
      "File \u001b[1;32mc:\\Users\\krzys\\AppData\\Local\\Programs\\Python\\Python312\\Lib\\site-packages\\langchain_ollama\\embeddings.py:164\u001b[0m, in \u001b[0;36mOllamaEmbeddings.embed_query\u001b[1;34m(self, text)\u001b[0m\n\u001b[0;32m    162\u001b[0m \u001b[38;5;28;01mdef\u001b[39;00m \u001b[38;5;21membed_query\u001b[39m(\u001b[38;5;28mself\u001b[39m, text: \u001b[38;5;28mstr\u001b[39m) \u001b[38;5;241m-\u001b[39m\u001b[38;5;241m>\u001b[39m List[\u001b[38;5;28mfloat\u001b[39m]:\n\u001b[0;32m    163\u001b[0m \u001b[38;5;250m    \u001b[39m\u001b[38;5;124;03m\"\"\"Embed query text.\"\"\"\u001b[39;00m\n\u001b[1;32m--> 164\u001b[0m     \u001b[38;5;28;01mreturn\u001b[39;00m \u001b[38;5;28;43mself\u001b[39;49m\u001b[38;5;241;43m.\u001b[39;49m\u001b[43membed_documents\u001b[49m\u001b[43m(\u001b[49m\u001b[43m[\u001b[49m\u001b[43mtext\u001b[49m\u001b[43m]\u001b[49m\u001b[43m)\u001b[49m[\u001b[38;5;241m0\u001b[39m]\n",
      "File \u001b[1;32mc:\\Users\\krzys\\AppData\\Local\\Programs\\Python\\Python312\\Lib\\site-packages\\langchain_ollama\\embeddings.py:159\u001b[0m, in \u001b[0;36mOllamaEmbeddings.embed_documents\u001b[1;34m(self, texts)\u001b[0m\n\u001b[0;32m    157\u001b[0m \u001b[38;5;28;01mdef\u001b[39;00m \u001b[38;5;21membed_documents\u001b[39m(\u001b[38;5;28mself\u001b[39m, texts: List[\u001b[38;5;28mstr\u001b[39m]) \u001b[38;5;241m-\u001b[39m\u001b[38;5;241m>\u001b[39m List[List[\u001b[38;5;28mfloat\u001b[39m]]:\n\u001b[0;32m    158\u001b[0m \u001b[38;5;250m    \u001b[39m\u001b[38;5;124;03m\"\"\"Embed search docs.\"\"\"\u001b[39;00m\n\u001b[1;32m--> 159\u001b[0m     embedded_docs \u001b[38;5;241m=\u001b[39m \u001b[38;5;28;43mself\u001b[39;49m\u001b[38;5;241;43m.\u001b[39;49m\u001b[43m_client\u001b[49m\u001b[38;5;241;43m.\u001b[39;49m\u001b[43membed\u001b[49m\u001b[43m(\u001b[49m\u001b[38;5;28;43mself\u001b[39;49m\u001b[38;5;241;43m.\u001b[39;49m\u001b[43mmodel\u001b[49m\u001b[43m,\u001b[49m\u001b[43m \u001b[49m\u001b[43mtexts\u001b[49m\u001b[43m)\u001b[49m[\u001b[38;5;124m\"\u001b[39m\u001b[38;5;124membeddings\u001b[39m\u001b[38;5;124m\"\u001b[39m]\n\u001b[0;32m    160\u001b[0m     \u001b[38;5;28;01mreturn\u001b[39;00m embedded_docs\n",
      "File \u001b[1;32mc:\\Users\\krzys\\AppData\\Local\\Programs\\Python\\Python312\\Lib\\site-packages\\ollama\\_client.py:262\u001b[0m, in \u001b[0;36mClient.embed\u001b[1;34m(self, model, input, truncate, options, keep_alive)\u001b[0m\n\u001b[0;32m    259\u001b[0m \u001b[38;5;28;01mif\u001b[39;00m \u001b[38;5;129;01mnot\u001b[39;00m model:\n\u001b[0;32m    260\u001b[0m   \u001b[38;5;28;01mraise\u001b[39;00m RequestError(\u001b[38;5;124m'\u001b[39m\u001b[38;5;124mmust provide a model\u001b[39m\u001b[38;5;124m'\u001b[39m)\n\u001b[1;32m--> 262\u001b[0m \u001b[38;5;28;01mreturn\u001b[39;00m \u001b[38;5;28;43mself\u001b[39;49m\u001b[38;5;241;43m.\u001b[39;49m\u001b[43m_request\u001b[49m\u001b[43m(\u001b[49m\n\u001b[0;32m    263\u001b[0m \u001b[43m  \u001b[49m\u001b[38;5;124;43m'\u001b[39;49m\u001b[38;5;124;43mPOST\u001b[39;49m\u001b[38;5;124;43m'\u001b[39;49m\u001b[43m,\u001b[49m\n\u001b[0;32m    264\u001b[0m \u001b[43m  \u001b[49m\u001b[38;5;124;43m'\u001b[39;49m\u001b[38;5;124;43m/api/embed\u001b[39;49m\u001b[38;5;124;43m'\u001b[39;49m\u001b[43m,\u001b[49m\n\u001b[0;32m    265\u001b[0m \u001b[43m  \u001b[49m\u001b[43mjson\u001b[49m\u001b[38;5;241;43m=\u001b[39;49m\u001b[43m{\u001b[49m\n\u001b[0;32m    266\u001b[0m \u001b[43m    \u001b[49m\u001b[38;5;124;43m'\u001b[39;49m\u001b[38;5;124;43mmodel\u001b[39;49m\u001b[38;5;124;43m'\u001b[39;49m\u001b[43m:\u001b[49m\u001b[43m \u001b[49m\u001b[43mmodel\u001b[49m\u001b[43m,\u001b[49m\n\u001b[0;32m    267\u001b[0m \u001b[43m    \u001b[49m\u001b[38;5;124;43m'\u001b[39;49m\u001b[38;5;124;43minput\u001b[39;49m\u001b[38;5;124;43m'\u001b[39;49m\u001b[43m:\u001b[49m\u001b[43m \u001b[49m\u001b[38;5;28;43minput\u001b[39;49m\u001b[43m,\u001b[49m\n\u001b[0;32m    268\u001b[0m \u001b[43m    \u001b[49m\u001b[38;5;124;43m'\u001b[39;49m\u001b[38;5;124;43mtruncate\u001b[39;49m\u001b[38;5;124;43m'\u001b[39;49m\u001b[43m:\u001b[49m\u001b[43m \u001b[49m\u001b[43mtruncate\u001b[49m\u001b[43m,\u001b[49m\n\u001b[0;32m    269\u001b[0m \u001b[43m    \u001b[49m\u001b[38;5;124;43m'\u001b[39;49m\u001b[38;5;124;43moptions\u001b[39;49m\u001b[38;5;124;43m'\u001b[39;49m\u001b[43m:\u001b[49m\u001b[43m \u001b[49m\u001b[43moptions\u001b[49m\u001b[43m \u001b[49m\u001b[38;5;129;43;01mor\u001b[39;49;00m\u001b[43m \u001b[49m\u001b[43m{\u001b[49m\u001b[43m}\u001b[49m\u001b[43m,\u001b[49m\n\u001b[0;32m    270\u001b[0m \u001b[43m    \u001b[49m\u001b[38;5;124;43m'\u001b[39;49m\u001b[38;5;124;43mkeep_alive\u001b[39;49m\u001b[38;5;124;43m'\u001b[39;49m\u001b[43m:\u001b[49m\u001b[43m \u001b[49m\u001b[43mkeep_alive\u001b[49m\u001b[43m,\u001b[49m\n\u001b[0;32m    271\u001b[0m \u001b[43m  \u001b[49m\u001b[43m}\u001b[49m\u001b[43m,\u001b[49m\n\u001b[0;32m    272\u001b[0m \u001b[43m\u001b[49m\u001b[43m)\u001b[49m\u001b[38;5;241m.\u001b[39mjson()\n",
      "File \u001b[1;32mc:\\Users\\krzys\\AppData\\Local\\Programs\\Python\\Python312\\Lib\\site-packages\\ollama\\_client.py:75\u001b[0m, in \u001b[0;36mClient._request\u001b[1;34m(self, method, url, **kwargs)\u001b[0m\n\u001b[0;32m     73\u001b[0m   response\u001b[38;5;241m.\u001b[39mraise_for_status()\n\u001b[0;32m     74\u001b[0m \u001b[38;5;28;01mexcept\u001b[39;00m httpx\u001b[38;5;241m.\u001b[39mHTTPStatusError \u001b[38;5;28;01mas\u001b[39;00m e:\n\u001b[1;32m---> 75\u001b[0m   \u001b[38;5;28;01mraise\u001b[39;00m ResponseError(e\u001b[38;5;241m.\u001b[39mresponse\u001b[38;5;241m.\u001b[39mtext, e\u001b[38;5;241m.\u001b[39mresponse\u001b[38;5;241m.\u001b[39mstatus_code) \u001b[38;5;28;01mfrom\u001b[39;00m \u001b[38;5;28;01mNone\u001b[39;00m\n\u001b[0;32m     77\u001b[0m \u001b[38;5;28;01mreturn\u001b[39;00m response\n",
      "\u001b[1;31mResponseError\u001b[0m: model \"Lexi-Llama-3-8B-Uncensored_Q8_0\" not found, try pulling it first"
     ]
    }
   ],
   "source": [
    "db = add_documents_to_db(db=None, document_chunks=document_chunks, db_kwargs=db_kwargs, bulk_upload=True)"
   ]
  },
  {
   "cell_type": "code",
   "execution_count": null,
   "metadata": {},
   "outputs": [],
   "source": [
    "fetch_all(\n",
    "    index_name=db_kwargs[\"index_name\"],\n",
    "    db_config={\"hosts\": db_kwargs[\"es_url\"]},\n",
    ")"
   ]
  },
  {
   "cell_type": "markdown",
   "metadata": {},
   "source": [
    "Prompt rag"
   ]
  },
  {
   "cell_type": "code",
   "execution_count": null,
   "metadata": {},
   "outputs": [],
   "source": [
    "model = Ollama(model=MODEL_NAME)\n",
    "\n",
    "response = rag_prompt(\n",
    "    context_char_threshold=CONTEXT_CHAR_THRESHOLD,\n",
    "    query = \"Jaki wydział jest potocznie nazywany CPN -em?\",\n",
    "    model=model,\n",
    "    db=db,\n",
    "    chunker_type=CHUNKER_TYPE,\n",
    ")\n",
    "\n",
    "# remove_document(\n",
    "#     index_name=db_kwargs[\"index_name\"],\n",
    "#     source_file=\"\",\n",
    "#     db_config={\"hosts\": db_kwargs[\"es_url\"]},\n",
    "#     )\n"
   ]
  },
  {
   "cell_type": "code",
   "execution_count": null,
   "metadata": {},
   "outputs": [],
   "source": []
  }
 ],
 "metadata": {
  "kernelspec": {
   "display_name": ".venv_wdzd",
   "language": "python",
   "name": "python3"
  },
  "language_info": {
   "codemirror_mode": {
    "name": "ipython",
    "version": 3
   },
   "file_extension": ".py",
   "mimetype": "text/x-python",
   "name": "python",
   "nbconvert_exporter": "python",
   "pygments_lexer": "ipython3",
   "version": "3.12.6"
  }
 },
 "nbformat": 4,
 "nbformat_minor": 2
}
