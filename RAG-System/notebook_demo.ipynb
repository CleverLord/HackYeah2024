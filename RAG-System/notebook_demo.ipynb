{
 "cells": [
  {
   "cell_type": "code",
   "execution_count": 1,
   "metadata": {},
   "outputs": [],
   "source": [
    "# import importlib\n",
    "# import db_utils\n",
    "# importlib.reload(db_utils)"
   ]
  },
  {
   "cell_type": "code",
   "execution_count": null,
   "metadata": {
    "ExecuteTime": {
     "end_time": "2024-09-28T20:44:25.303552Z",
     "start_time": "2024-09-28T20:44:23.390518Z"
    }
   },
   "outputs": [],
   "source": [
    "%pip install langchain-elasticsearch langchain-community langchain_experimental langchain_openai tqdm pypdf streamlit langchain-ollama --use-pep517"
   ]
  },
  {
   "cell_type": "code",
   "execution_count": 3,
   "metadata": {
    "ExecuteTime": {
     "end_time": "2024-09-28T20:44:41.929390Z",
     "start_time": "2024-09-28T20:44:35.969291Z"
    }
   },
   "outputs": [],
   "source": [
    "from langchain_community.embeddings import FastEmbedEmbeddings\n",
    "from langchain_community.llms.ollama import Ollama\n",
    "\n",
    "from db_utils import add_documents_to_db, remove_index, remove_document, fetch_all\n",
    "from files_utils import chunk_documents\n",
    "from model_utils import rag_prompt\n",
    "from config import MODEL_NAME, ES_PORT, ES_INDEX_NAME, ES_DISTANCE_STRATEGY, CONTEXT_CHAR_THRESHOLD, CHUNKER_TYPE\n",
    "import pickle"
   ]
  },
  {
   "cell_type": "markdown",
   "metadata": {},
   "source": [
    "Prepare chunks"
   ]
  },
  {
   "cell_type": "code",
   "execution_count": null,
   "metadata": {
    "ExecuteTime": {
     "end_time": "2024-09-28T20:44:45.767857Z",
     "start_time": "2024-09-28T20:44:41.929390Z"
    }
   },
   "outputs": [],
   "source": [
    "pdf_directory = \"./data/college\"\n",
    "\n",
    "document_chunks = chunk_documents(pdf_directory=pdf_directory, chunker_type=CHUNKER_TYPE)"
   ]
  },
  {
   "cell_type": "code",
   "execution_count": null,
   "metadata": {},
   "outputs": [],
   "source": [
    "document_chunks"
   ]
  },
  {
   "cell_type": "code",
   "execution_count": null,
   "metadata": {},
   "outputs": [],
   "source": [
    "len(document_chunks)"
   ]
  },
  {
   "cell_type": "code",
   "execution_count": 7,
   "metadata": {},
   "outputs": [],
   "source": [
    "# save document_chunks to a file\n",
    "with open(\"document_chunks_FastEmbedEmbeddings_college.pkl\", \"wb\") as f:\n",
    "    pickle.dump(document_chunks, f)"
   ]
  },
  {
   "cell_type": "code",
   "execution_count": 8,
   "metadata": {},
   "outputs": [],
   "source": [
    "# %pip install langchain-elasticsearch langchain-community langchain_experimental langchain_openai tqdm pypdf streamlit fastembed --use-pep517"
   ]
  },
  {
   "cell_type": "markdown",
   "metadata": {},
   "source": [
    "Prepare database"
   ]
  },
  {
   "cell_type": "code",
   "execution_count": 13,
   "metadata": {
    "ExecuteTime": {
     "end_time": "2024-09-28T20:44:49.260104Z",
     "start_time": "2024-09-28T20:44:49.212721Z"
    }
   },
   "outputs": [],
   "source": [
    "from langchain_ollama import OllamaEmbeddings\n",
    "\n",
    "embedding = OllamaEmbeddings(\n",
    "    model=\"Lexi-Llama-3-8B-Uncensored_Q8_0.gguf\",\n",
    ")\n",
    "db_kwargs = {\n",
    "    \"embedding\": embedding,\n",
    "    \"es_url\": \"http://localhost:9200\",\n",
    "    \"index_name\": \"rag\",\n",
    "    \"distance_strategy\": \"COSINE\"\n",
    "}"
   ]
  },
  {
   "cell_type": "code",
   "execution_count": null,
   "metadata": {
    "ExecuteTime": {
     "end_time": "2024-09-28T20:44:51.383589Z",
     "start_time": "2024-09-28T20:44:51.336420Z"
    }
   },
   "outputs": [],
   "source": [
    "# clear index \n",
    "remove_index(index_name=db_kwargs[\"index_name\"], db_config={\"hosts\": db_kwargs[\"es_url\"]})"
   ]
  },
  {
   "cell_type": "code",
   "execution_count": null,
   "metadata": {
    "ExecuteTime": {
     "end_time": "2024-09-28T20:44:56.000060Z",
     "start_time": "2024-09-28T20:44:55.968386Z"
    }
   },
   "outputs": [],
   "source": [
    "#print type of document_chunks, db_kwargs\n",
    "print(type(document_chunks), type(db_kwargs))"
   ]
  },
  {
   "cell_type": "code",
   "execution_count": null,
   "metadata": {
    "ExecuteTime": {
     "end_time": "2024-09-28T20:45:00.607612Z",
     "start_time": "2024-09-28T20:44:57.867081Z"
    }
   },
   "outputs": [],
   "source": [
    "db = add_documents_to_db(db=None, document_chunks=document_chunks, db_kwargs=db_kwargs, bulk_upload=True)"
   ]
  },
  {
   "cell_type": "code",
   "execution_count": null,
   "metadata": {},
   "outputs": [],
   "source": [
    "fetch_all(\n",
    "    index_name=db_kwargs[\"index_name\"],\n",
    "    db_config={\"hosts\": db_kwargs[\"es_url\"]},\n",
    ")"
   ]
  },
  {
   "cell_type": "markdown",
   "metadata": {},
   "source": [
    "Prompt rag"
   ]
  },
  {
   "cell_type": "code",
   "execution_count": null,
   "metadata": {},
   "outputs": [],
   "source": [
    "model = Ollama(model=MODEL_NAME)\n",
    "\n",
    "response = rag_prompt(\n",
    "    context_char_threshold=CONTEXT_CHAR_THRESHOLD,\n",
    "    query = \"Chciałbym wypełnić deklarację PCC-3.\",\n",
    "    model=model,\n",
    "    db=db,\n",
    "    chunker_type=CHUNKER_TYPE,\n",
    ")\n",
    "\n",
    "# remove_document(\n",
    "#     index_name=db_kwargs[\"index_name\"],\n",
    "#     source_file=\"\",\n",
    "#     db_config={\"hosts\": db_kwargs[\"es_url\"]},\n",
    "#     )\n"
   ]
  },
  {
   "cell_type": "code",
   "execution_count": null,
   "metadata": {},
   "outputs": [],
   "source": []
  }
 ],
 "metadata": {
  "kernelspec": {
   "display_name": ".venv_wdzd",
   "language": "python",
   "name": "python3"
  },
  "language_info": {
   "codemirror_mode": {
    "name": "ipython",
    "version": 3
   },
   "file_extension": ".py",
   "mimetype": "text/x-python",
   "name": "python",
   "nbconvert_exporter": "python",
   "pygments_lexer": "ipython3",
   "version": "3.12.6"
  }
 },
 "nbformat": 4,
 "nbformat_minor": 2
}
