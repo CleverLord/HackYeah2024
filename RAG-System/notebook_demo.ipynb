{
 "cells": [
  {
   "metadata": {
    "ExecuteTime": {
     "end_time": "2024-09-29T02:23:14.439370Z",
     "start_time": "2024-09-29T02:23:12.630388Z"
    }
   },
   "cell_type": "code",
   "source": "%pip install -r /home/HackYeah/HackYeah2024/Backend/TaxAssistantServer/requirements.txt",
   "outputs": [
    {
     "name": "stdout",
     "output_type": "stream",
     "text": [
      "Requirement already satisfied: aiohappyeyeballs==2.4.2 in c:\\users\\dodeu\\appdata\\local\\packages\\pythonsoftwarefoundation.python.3.10_qbz5n2kfra8p0\\localcache\\local-packages\\python310\\site-packages (from -r /home/HackYeah/HackYeah2024/Backend/TaxAssistantServer/requirements.txt (line 1)) (2.4.2)\n",
      "Requirement already satisfied: aiohttp==3.10.8 in c:\\users\\dodeu\\appdata\\local\\packages\\pythonsoftwarefoundation.python.3.10_qbz5n2kfra8p0\\localcache\\local-packages\\python310\\site-packages (from -r /home/HackYeah/HackYeah2024/Backend/TaxAssistantServer/requirements.txt (line 2)) (3.10.8)\n",
      "Requirement already satisfied: aiosignal==1.3.1 in c:\\users\\dodeu\\appdata\\local\\packages\\pythonsoftwarefoundation.python.3.10_qbz5n2kfra8p0\\localcache\\local-packages\\python310\\site-packages (from -r /home/HackYeah/HackYeah2024/Backend/TaxAssistantServer/requirements.txt (line 3)) (1.3.1)\n",
      "Requirement already satisfied: annotated-types==0.7.0 in c:\\users\\dodeu\\appdata\\local\\packages\\pythonsoftwarefoundation.python.3.10_qbz5n2kfra8p0\\localcache\\local-packages\\python310\\site-packages (from -r /home/HackYeah/HackYeah2024/Backend/TaxAssistantServer/requirements.txt (line 4)) (0.7.0)\n",
      "Requirement already satisfied: anyio==4.6.0 in c:\\users\\dodeu\\appdata\\local\\packages\\pythonsoftwarefoundation.python.3.10_qbz5n2kfra8p0\\localcache\\local-packages\\python310\\site-packages (from -r /home/HackYeah/HackYeah2024/Backend/TaxAssistantServer/requirements.txt (line 5)) (4.6.0)\n",
      "Requirement already satisfied: asgiref==3.8.1 in c:\\users\\dodeu\\appdata\\local\\packages\\pythonsoftwarefoundation.python.3.10_qbz5n2kfra8p0\\localcache\\local-packages\\python310\\site-packages (from -r /home/HackYeah/HackYeah2024/Backend/TaxAssistantServer/requirements.txt (line 6)) (3.8.1)\n",
      "Requirement already satisfied: attrs==24.2.0 in c:\\users\\dodeu\\appdata\\local\\packages\\pythonsoftwarefoundation.python.3.10_qbz5n2kfra8p0\\localcache\\local-packages\\python310\\site-packages (from -r /home/HackYeah/HackYeah2024/Backend/TaxAssistantServer/requirements.txt (line 7)) (24.2.0)\n",
      "Requirement already satisfied: certifi==2024.8.30 in c:\\users\\dodeu\\appdata\\local\\packages\\pythonsoftwarefoundation.python.3.10_qbz5n2kfra8p0\\localcache\\local-packages\\python310\\site-packages (from -r /home/HackYeah/HackYeah2024/Backend/TaxAssistantServer/requirements.txt (line 8)) (2024.8.30)\n",
      "Requirement already satisfied: charset-normalizer==3.3.2 in c:\\users\\dodeu\\appdata\\local\\packages\\pythonsoftwarefoundation.python.3.10_qbz5n2kfra8p0\\localcache\\local-packages\\python310\\site-packages (from -r /home/HackYeah/HackYeah2024/Backend/TaxAssistantServer/requirements.txt (line 9)) (3.3.2)\n",
      "Requirement already satisfied: dataclasses-json==0.6.7 in c:\\users\\dodeu\\appdata\\local\\packages\\pythonsoftwarefoundation.python.3.10_qbz5n2kfra8p0\\localcache\\local-packages\\python310\\site-packages (from -r /home/HackYeah/HackYeah2024/Backend/TaxAssistantServer/requirements.txt (line 10)) (0.6.7)\n",
      "Requirement already satisfied: Django==5.1.1 in c:\\users\\dodeu\\appdata\\local\\packages\\pythonsoftwarefoundation.python.3.10_qbz5n2kfra8p0\\localcache\\local-packages\\python310\\site-packages (from -r /home/HackYeah/HackYeah2024/Backend/TaxAssistantServer/requirements.txt (line 11)) (5.1.1)\n",
      "Requirement already satisfied: django-cors-headers==4.4.0 in c:\\users\\dodeu\\appdata\\local\\packages\\pythonsoftwarefoundation.python.3.10_qbz5n2kfra8p0\\localcache\\local-packages\\python310\\site-packages (from -r /home/HackYeah/HackYeah2024/Backend/TaxAssistantServer/requirements.txt (line 12)) (4.4.0)\n",
      "Requirement already satisfied: djangorestframework==3.15.2 in c:\\users\\dodeu\\appdata\\local\\packages\\pythonsoftwarefoundation.python.3.10_qbz5n2kfra8p0\\localcache\\local-packages\\python310\\site-packages (from -r /home/HackYeah/HackYeah2024/Backend/TaxAssistantServer/requirements.txt (line 13)) (3.15.2)\n",
      "Requirement already satisfied: environs==11.0.0 in c:\\users\\dodeu\\appdata\\local\\packages\\pythonsoftwarefoundation.python.3.10_qbz5n2kfra8p0\\localcache\\local-packages\\python310\\site-packages (from -r /home/HackYeah/HackYeah2024/Backend/TaxAssistantServer/requirements.txt (line 14)) (11.0.0)\n",
      "Requirement already satisfied: frozenlist==1.4.1 in c:\\users\\dodeu\\appdata\\local\\packages\\pythonsoftwarefoundation.python.3.10_qbz5n2kfra8p0\\localcache\\local-packages\\python310\\site-packages (from -r /home/HackYeah/HackYeah2024/Backend/TaxAssistantServer/requirements.txt (line 15)) (1.4.1)\n",
      "Requirement already satisfied: greenlet==3.1.1 in c:\\users\\dodeu\\appdata\\local\\packages\\pythonsoftwarefoundation.python.3.10_qbz5n2kfra8p0\\localcache\\local-packages\\python310\\site-packages (from -r /home/HackYeah/HackYeah2024/Backend/TaxAssistantServer/requirements.txt (line 16)) (3.1.1)\n",
      "Requirement already satisfied: h11==0.14.0 in c:\\users\\dodeu\\appdata\\local\\packages\\pythonsoftwarefoundation.python.3.10_qbz5n2kfra8p0\\localcache\\local-packages\\python310\\site-packages (from -r /home/HackYeah/HackYeah2024/Backend/TaxAssistantServer/requirements.txt (line 17)) (0.14.0)\n",
      "Requirement already satisfied: httpcore==1.0.5 in c:\\users\\dodeu\\appdata\\local\\packages\\pythonsoftwarefoundation.python.3.10_qbz5n2kfra8p0\\localcache\\local-packages\\python310\\site-packages (from -r /home/HackYeah/HackYeah2024/Backend/TaxAssistantServer/requirements.txt (line 18)) (1.0.5)\n",
      "Requirement already satisfied: httpx==0.27.2 in c:\\users\\dodeu\\appdata\\local\\packages\\pythonsoftwarefoundation.python.3.10_qbz5n2kfra8p0\\localcache\\local-packages\\python310\\site-packages (from -r /home/HackYeah/HackYeah2024/Backend/TaxAssistantServer/requirements.txt (line 19)) (0.27.2)\n",
      "Requirement already satisfied: idna==3.10 in c:\\users\\dodeu\\appdata\\local\\packages\\pythonsoftwarefoundation.python.3.10_qbz5n2kfra8p0\\localcache\\local-packages\\python310\\site-packages (from -r /home/HackYeah/HackYeah2024/Backend/TaxAssistantServer/requirements.txt (line 20)) (3.10)\n",
      "Requirement already satisfied: jsonpatch==1.33 in c:\\users\\dodeu\\appdata\\local\\packages\\pythonsoftwarefoundation.python.3.10_qbz5n2kfra8p0\\localcache\\local-packages\\python310\\site-packages (from -r /home/HackYeah/HackYeah2024/Backend/TaxAssistantServer/requirements.txt (line 21)) (1.33)\n",
      "Requirement already satisfied: jsonpointer==3.0.0 in c:\\users\\dodeu\\appdata\\local\\packages\\pythonsoftwarefoundation.python.3.10_qbz5n2kfra8p0\\localcache\\local-packages\\python310\\site-packages (from -r /home/HackYeah/HackYeah2024/Backend/TaxAssistantServer/requirements.txt (line 22)) (3.0.0)\n",
      "Requirement already satisfied: langchain==0.3.1 in c:\\users\\dodeu\\appdata\\local\\packages\\pythonsoftwarefoundation.python.3.10_qbz5n2kfra8p0\\localcache\\local-packages\\python310\\site-packages (from -r /home/HackYeah/HackYeah2024/Backend/TaxAssistantServer/requirements.txt (line 23)) (0.3.1)\n",
      "Requirement already satisfied: langchain-community==0.3.1 in c:\\users\\dodeu\\appdata\\local\\packages\\pythonsoftwarefoundation.python.3.10_qbz5n2kfra8p0\\localcache\\local-packages\\python310\\site-packages (from -r /home/HackYeah/HackYeah2024/Backend/TaxAssistantServer/requirements.txt (line 24)) (0.3.1)\n",
      "Requirement already satisfied: langchain-core==0.3.6 in c:\\users\\dodeu\\appdata\\local\\packages\\pythonsoftwarefoundation.python.3.10_qbz5n2kfra8p0\\localcache\\local-packages\\python310\\site-packages (from -r /home/HackYeah/HackYeah2024/Backend/TaxAssistantServer/requirements.txt (line 25)) (0.3.6)\n",
      "Requirement already satisfied: langchain-text-splitters==0.3.0 in c:\\users\\dodeu\\appdata\\local\\packages\\pythonsoftwarefoundation.python.3.10_qbz5n2kfra8p0\\localcache\\local-packages\\python310\\site-packages (from -r /home/HackYeah/HackYeah2024/Backend/TaxAssistantServer/requirements.txt (line 26)) (0.3.0)\n",
      "Requirement already satisfied: langsmith==0.1.129 in c:\\users\\dodeu\\appdata\\local\\packages\\pythonsoftwarefoundation.python.3.10_qbz5n2kfra8p0\\localcache\\local-packages\\python310\\site-packages (from -r /home/HackYeah/HackYeah2024/Backend/TaxAssistantServer/requirements.txt (line 27)) (0.1.129)\n",
      "Requirement already satisfied: marshmallow==3.22.0 in c:\\users\\dodeu\\appdata\\local\\packages\\pythonsoftwarefoundation.python.3.10_qbz5n2kfra8p0\\localcache\\local-packages\\python310\\site-packages (from -r /home/HackYeah/HackYeah2024/Backend/TaxAssistantServer/requirements.txt (line 28)) (3.22.0)\n",
      "Requirement already satisfied: multidict==6.1.0 in c:\\users\\dodeu\\appdata\\local\\packages\\pythonsoftwarefoundation.python.3.10_qbz5n2kfra8p0\\localcache\\local-packages\\python310\\site-packages (from -r /home/HackYeah/HackYeah2024/Backend/TaxAssistantServer/requirements.txt (line 29)) (6.1.0)\n",
      "Requirement already satisfied: mypy-extensions==1.0.0 in c:\\users\\dodeu\\appdata\\local\\packages\\pythonsoftwarefoundation.python.3.10_qbz5n2kfra8p0\\localcache\\local-packages\\python310\\site-packages (from -r /home/HackYeah/HackYeah2024/Backend/TaxAssistantServer/requirements.txt (line 30)) (1.0.0)\n",
      "Requirement already satisfied: numpy==1.26.4 in c:\\users\\dodeu\\appdata\\local\\packages\\pythonsoftwarefoundation.python.3.10_qbz5n2kfra8p0\\localcache\\local-packages\\python310\\site-packages (from -r /home/HackYeah/HackYeah2024/Backend/TaxAssistantServer/requirements.txt (line 31)) (1.26.4)\n",
      "Requirement already satisfied: orjson==3.10.7 in c:\\users\\dodeu\\appdata\\local\\packages\\pythonsoftwarefoundation.python.3.10_qbz5n2kfra8p0\\localcache\\local-packages\\python310\\site-packages (from -r /home/HackYeah/HackYeah2024/Backend/TaxAssistantServer/requirements.txt (line 32)) (3.10.7)\n",
      "Requirement already satisfied: packaging==24.1 in c:\\users\\dodeu\\appdata\\local\\packages\\pythonsoftwarefoundation.python.3.10_qbz5n2kfra8p0\\localcache\\local-packages\\python310\\site-packages (from -r /home/HackYeah/HackYeah2024/Backend/TaxAssistantServer/requirements.txt (line 33)) (24.1)\n",
      "Requirement already satisfied: pydantic==2.9.2 in c:\\users\\dodeu\\appdata\\local\\packages\\pythonsoftwarefoundation.python.3.10_qbz5n2kfra8p0\\localcache\\local-packages\\python310\\site-packages (from -r /home/HackYeah/HackYeah2024/Backend/TaxAssistantServer/requirements.txt (line 34)) (2.9.2)\n",
      "Requirement already satisfied: pydantic-settings==2.5.2 in c:\\users\\dodeu\\appdata\\local\\packages\\pythonsoftwarefoundation.python.3.10_qbz5n2kfra8p0\\localcache\\local-packages\\python310\\site-packages (from -r /home/HackYeah/HackYeah2024/Backend/TaxAssistantServer/requirements.txt (line 35)) (2.5.2)\n",
      "Requirement already satisfied: pydantic_core==2.23.4 in c:\\users\\dodeu\\appdata\\local\\packages\\pythonsoftwarefoundation.python.3.10_qbz5n2kfra8p0\\localcache\\local-packages\\python310\\site-packages (from -r /home/HackYeah/HackYeah2024/Backend/TaxAssistantServer/requirements.txt (line 36)) (2.23.4)\n",
      "Requirement already satisfied: python-dotenv==1.0.1 in c:\\users\\dodeu\\appdata\\local\\packages\\pythonsoftwarefoundation.python.3.10_qbz5n2kfra8p0\\localcache\\local-packages\\python310\\site-packages (from -r /home/HackYeah/HackYeah2024/Backend/TaxAssistantServer/requirements.txt (line 37)) (1.0.1)\n",
      "Requirement already satisfied: PyYAML==6.0.2 in c:\\users\\dodeu\\appdata\\local\\packages\\pythonsoftwarefoundation.python.3.10_qbz5n2kfra8p0\\localcache\\local-packages\\python310\\site-packages (from -r /home/HackYeah/HackYeah2024/Backend/TaxAssistantServer/requirements.txt (line 38)) (6.0.2)\n",
      "Requirement already satisfied: requests==2.32.3 in c:\\users\\dodeu\\appdata\\local\\packages\\pythonsoftwarefoundation.python.3.10_qbz5n2kfra8p0\\localcache\\local-packages\\python310\\site-packages (from -r /home/HackYeah/HackYeah2024/Backend/TaxAssistantServer/requirements.txt (line 39)) (2.32.3)\n",
      "Requirement already satisfied: sniffio==1.3.1 in c:\\users\\dodeu\\appdata\\local\\packages\\pythonsoftwarefoundation.python.3.10_qbz5n2kfra8p0\\localcache\\local-packages\\python310\\site-packages (from -r /home/HackYeah/HackYeah2024/Backend/TaxAssistantServer/requirements.txt (line 40)) (1.3.1)\n",
      "Requirement already satisfied: SQLAlchemy==2.0.35 in c:\\users\\dodeu\\appdata\\local\\packages\\pythonsoftwarefoundation.python.3.10_qbz5n2kfra8p0\\localcache\\local-packages\\python310\\site-packages (from -r /home/HackYeah/HackYeah2024/Backend/TaxAssistantServer/requirements.txt (line 41)) (2.0.35)\n",
      "Requirement already satisfied: sqlparse==0.5.1 in c:\\users\\dodeu\\appdata\\local\\packages\\pythonsoftwarefoundation.python.3.10_qbz5n2kfra8p0\\localcache\\local-packages\\python310\\site-packages (from -r /home/HackYeah/HackYeah2024/Backend/TaxAssistantServer/requirements.txt (line 42)) (0.5.1)\n",
      "Requirement already satisfied: tenacity==8.5.0 in c:\\users\\dodeu\\appdata\\local\\packages\\pythonsoftwarefoundation.python.3.10_qbz5n2kfra8p0\\localcache\\local-packages\\python310\\site-packages (from -r /home/HackYeah/HackYeah2024/Backend/TaxAssistantServer/requirements.txt (line 43)) (8.5.0)\n",
      "Requirement already satisfied: typing-inspect==0.9.0 in c:\\users\\dodeu\\appdata\\local\\packages\\pythonsoftwarefoundation.python.3.10_qbz5n2kfra8p0\\localcache\\local-packages\\python310\\site-packages (from -r /home/HackYeah/HackYeah2024/Backend/TaxAssistantServer/requirements.txt (line 44)) (0.9.0)\n",
      "Requirement already satisfied: typing_extensions==4.12.2 in c:\\users\\dodeu\\appdata\\local\\packages\\pythonsoftwarefoundation.python.3.10_qbz5n2kfra8p0\\localcache\\local-packages\\python310\\site-packages (from -r /home/HackYeah/HackYeah2024/Backend/TaxAssistantServer/requirements.txt (line 45)) (4.12.2)\n",
      "Requirement already satisfied: tzdata==2024.2 in c:\\users\\dodeu\\appdata\\local\\packages\\pythonsoftwarefoundation.python.3.10_qbz5n2kfra8p0\\localcache\\local-packages\\python310\\site-packages (from -r /home/HackYeah/HackYeah2024/Backend/TaxAssistantServer/requirements.txt (line 46)) (2024.2)\n",
      "Requirement already satisfied: urllib3==2.2.3 in c:\\users\\dodeu\\appdata\\local\\packages\\pythonsoftwarefoundation.python.3.10_qbz5n2kfra8p0\\localcache\\local-packages\\python310\\site-packages (from -r /home/HackYeah/HackYeah2024/Backend/TaxAssistantServer/requirements.txt (line 47)) (2.2.3)\n",
      "Requirement already satisfied: yarl==1.13.1 in c:\\users\\dodeu\\appdata\\local\\packages\\pythonsoftwarefoundation.python.3.10_qbz5n2kfra8p0\\localcache\\local-packages\\python310\\site-packages (from -r /home/HackYeah/HackYeah2024/Backend/TaxAssistantServer/requirements.txt (line 48)) (1.13.1)\n",
      "Requirement already satisfied: async-timeout<5.0,>=4.0 in c:\\users\\dodeu\\appdata\\local\\packages\\pythonsoftwarefoundation.python.3.10_qbz5n2kfra8p0\\localcache\\local-packages\\python310\\site-packages (from aiohttp==3.10.8->-r /home/HackYeah/HackYeah2024/Backend/TaxAssistantServer/requirements.txt (line 2)) (4.0.3)\n",
      "Requirement already satisfied: exceptiongroup>=1.0.2 in c:\\users\\dodeu\\appdata\\local\\packages\\pythonsoftwarefoundation.python.3.10_qbz5n2kfra8p0\\localcache\\local-packages\\python310\\site-packages (from anyio==4.6.0->-r /home/HackYeah/HackYeah2024/Backend/TaxAssistantServer/requirements.txt (line 5)) (1.2.2)\n",
      "Note: you may need to restart the kernel to use updated packages.\n"
     ]
    },
    {
     "name": "stderr",
     "output_type": "stream",
     "text": [
      "\n",
      "[notice] A new release of pip is available: 23.0.1 -> 24.2\n",
      "[notice] To update, run: C:\\Users\\dodeu\\AppData\\Local\\Microsoft\\WindowsApps\\PythonSoftwareFoundation.Python.3.10_qbz5n2kfra8p0\\python.exe -m pip install --upgrade pip\n"
     ]
    }
   ],
   "execution_count": 27
  },
  {
   "metadata": {
    "ExecuteTime": {
     "end_time": "2024-09-29T02:21:48.997803Z",
     "start_time": "2024-09-29T02:21:48.986656Z"
    }
   },
   "cell_type": "code",
   "source": "%pwd",
   "outputs": [
    {
     "data": {
      "text/plain": [
       "'\\\\\\\\wsl.localhost\\\\Ubuntu\\\\home\\\\HackYeah\\\\HackYeah2024\\\\RAG-System'"
      ]
     },
     "execution_count": 25,
     "metadata": {},
     "output_type": "execute_result"
    }
   ],
   "execution_count": 25
  },
  {
   "cell_type": "code",
   "execution_count": 15,
   "metadata": {},
   "outputs": [],
   "source": [
    "# import importlib\n",
    "# import db_utils\n",
    "# importlib.reload(db_utils)"
   ]
  },
  {
   "cell_type": "code",
   "execution_count": null,
   "metadata": {
    "ExecuteTime": {
     "end_time": "2024-09-28T20:44:25.303552Z",
     "start_time": "2024-09-28T20:44:23.390518Z"
    }
   },
   "outputs": [],
   "source": [
    "%pip install langchain-elasticsearch langchain-community langchain_experimental langchain_openai tqdm pypdf streamlit langchain-ollama --use-pep517"
   ]
  },
  {
   "cell_type": "code",
   "execution_count": 17,
   "metadata": {
    "ExecuteTime": {
     "end_time": "2024-09-28T22:47:05.910459Z",
     "start_time": "2024-09-28T22:47:05.890577Z"
    }
   },
   "outputs": [],
   "source": [
    "from langchain_community.embeddings import FastEmbedEmbeddings\n",
    "from langchain_community.llms.ollama import Ollama\n",
    "\n",
    "from db_utils import add_documents_to_db, remove_index, remove_document, fetch_all\n",
    "from model_utils import rag_prompt\n",
    "from config import MODEL_NAME, ES_PORT, ES_INDEX_NAME, ES_DISTANCE_STRATEGY, CONTEXT_CHAR_THRESHOLD, CHUNKER_TYPE\n",
    "import pickle\n",
    "from langchain_community.document_loaders import PyPDFDirectoryLoader"
   ]
  },
  {
   "cell_type": "markdown",
   "metadata": {},
   "source": [
    "Prepare chunks"
   ]
  },
  {
   "cell_type": "code",
   "execution_count": 18,
   "metadata": {
    "ExecuteTime": {
     "end_time": "2024-09-28T22:47:09.288413Z",
     "start_time": "2024-09-28T22:47:08.408287Z"
    }
   },
   "outputs": [],
   "source": [
    "pdf_directory = \"./data/college\"\n",
    "document_chunks = PyPDFDirectoryLoader(pdf_directory, recursive=True).load()"
   ]
  },
  {
   "cell_type": "code",
   "execution_count": null,
   "metadata": {
    "ExecuteTime": {
     "end_time": "2024-09-28T22:47:10.449550Z",
     "start_time": "2024-09-28T22:47:10.433385Z"
    }
   },
   "outputs": [],
   "source": [
    "document_chunks"
   ]
  },
  {
   "cell_type": "code",
   "execution_count": null,
   "metadata": {
    "ExecuteTime": {
     "end_time": "2024-09-28T22:51:23.394773Z",
     "start_time": "2024-09-28T22:51:23.385186Z"
    }
   },
   "outputs": [],
   "source": [
    "len(document_chunks)"
   ]
  },
  {
   "cell_type": "code",
   "execution_count": 21,
   "metadata": {
    "ExecuteTime": {
     "end_time": "2024-09-28T22:47:44.228838Z",
     "start_time": "2024-09-28T22:47:44.215656Z"
    }
   },
   "outputs": [],
   "source": [
    "# save document_chunks to a file\n",
    "with open(\"document_chunks_FastEmbedEmbeddings_college.pkl\", \"wb\") as f:\n",
    "    pickle.dump(document_chunks, f)"
   ]
  },
  {
   "cell_type": "code",
   "execution_count": 22,
   "metadata": {},
   "outputs": [],
   "source": [
    "# %pip install langchain-elasticsearch langchain-community langchain_experimental langchain_openai tqdm pypdf streamlit fastembed --use-pep517"
   ]
  },
  {
   "cell_type": "markdown",
   "metadata": {},
   "source": [
    "Prepare database"
   ]
  },
  {
   "cell_type": "code",
   "execution_count": 23,
   "metadata": {
    "ExecuteTime": {
     "end_time": "2024-09-28T22:47:49.794086Z",
     "start_time": "2024-09-28T22:47:49.756421Z"
    }
   },
   "outputs": [],
   "source": [
    "from langchain_ollama import OllamaEmbeddings\n",
    "MODEL_NAME=\"llama3.2\"\n",
    "embedding = OllamaEmbeddings(\n",
    "    model=MODEL_NAME,\n",
    ")\n",
    "db_kwargs = {\n",
    "    \"embedding\": embedding,\n",
    "    \"es_url\": \"http://localhost:9200\",\n",
    "    \"index_name\": \"rag\",\n",
    "    \"distance_strategy\": \"COSINE\"\n",
    "}"
   ]
  },
  {
   "cell_type": "code",
   "execution_count": null,
   "metadata": {
    "ExecuteTime": {
     "end_time": "2024-09-28T22:47:52.546355Z",
     "start_time": "2024-09-28T22:47:52.506476Z"
    }
   },
   "outputs": [],
   "source": [
    "# clear index \n",
    "remove_index(index_name=db_kwargs[\"index_name\"], db_config={\"hosts\": db_kwargs[\"es_url\"]})"
   ]
  },
  {
   "cell_type": "code",
   "execution_count": null,
   "metadata": {
    "ExecuteTime": {
     "end_time": "2024-09-28T22:47:54.620723Z",
     "start_time": "2024-09-28T22:47:54.603478Z"
    }
   },
   "outputs": [],
   "source": [
    "#print type of document_chunks, db_kwargs\n",
    "print(type(document_chunks), type(db_kwargs))"
   ]
  },
  {
   "cell_type": "code",
   "execution_count": null,
   "metadata": {
    "ExecuteTime": {
     "end_time": "2024-09-28T22:47:58.696030Z",
     "start_time": "2024-09-28T22:47:56.449694Z"
    }
   },
   "outputs": [],
   "source": [
    "db = add_documents_to_db(db=None, document_chunks=document_chunks, db_kwargs=db_kwargs, bulk_upload=True)"
   ]
  },
  {
   "cell_type": "code",
   "execution_count": null,
   "metadata": {},
   "outputs": [],
   "source": [
    "fetch_all(\n",
    "    index_name=db_kwargs[\"index_name\"],\n",
    "    db_config={\"hosts\": db_kwargs[\"es_url\"]},\n",
    ")"
   ]
  },
  {
   "cell_type": "markdown",
   "metadata": {},
   "source": [
    "Prompt rag"
   ]
  },
  {
   "cell_type": "code",
   "execution_count": null,
   "metadata": {},
   "outputs": [],
   "source": [
    "model = Ollama(model=MODEL_NAME)\n",
    "\n",
    "response = rag_prompt(\n",
    "    context_char_threshold=CONTEXT_CHAR_THRESHOLD,\n",
    "    query = \"Chciałbym wypełnić deklarację PCC-3.\",\n",
    "    model=model,\n",
    "    db=db,\n",
    "    chunker_type=CHUNKER_TYPE,\n",
    ")\n",
    "\n",
    "# remove_document(\n",
    "#     index_name=db_kwargs[\"index_name\"],\n",
    "#     source_file=\"\",\n",
    "#     db_config={\"hosts\": db_kwargs[\"es_url\"]},\n",
    "#     )\n"
   ]
  },
  {
   "cell_type": "code",
   "execution_count": null,
   "metadata": {},
   "outputs": [],
   "source": []
  }
 ],
 "metadata": {
  "kernelspec": {
   "display_name": ".venv_wdzd",
   "language": "python",
   "name": "python3"
  },
  "language_info": {
   "codemirror_mode": {
    "name": "ipython",
    "version": 3
   },
   "file_extension": ".py",
   "mimetype": "text/x-python",
   "name": "python",
   "nbconvert_exporter": "python",
   "pygments_lexer": "ipython3",
   "version": "3.12.6"
  }
 },
 "nbformat": 4,
 "nbformat_minor": 2
}
